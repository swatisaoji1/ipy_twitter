{
 "cells": [
  {
   "cell_type": "markdown",
   "metadata": {},
   "source": [
    "## Experimenting with the manually labelled data\n",
    "___\n"
   ]
  },
  {
   "cell_type": "code",
   "execution_count": 1,
   "metadata": {
    "collapsed": false
   },
   "outputs": [
    {
     "data": {
      "text/html": [
       "<script>jQuery(function() {if (jQuery(\"body.notebook_app\").length == 0) { jQuery(\".input_area\").toggle(); jQuery(\".prompt\").toggle();}});</script>"
      ]
     },
     "metadata": {},
     "output_type": "display_data"
    }
   ],
   "source": [
    "%matplotlib inline\n",
    "import IPython.core.display as di\n",
    "\n",
    "# This line will hide code by default when the notebook is exported as HTML\n",
    "di.display_html('<script>jQuery(function() {if (jQuery(\"body.notebook_app\").length == 0) { jQuery(\".input_area\").toggle(); jQuery(\".prompt\").toggle();}});</script>', raw=True)\n"
   ]
  },
  {
   "cell_type": "code",
   "execution_count": 2,
   "metadata": {
    "collapsed": true,
    "slideshow": {
     "slide_type": "slide"
    }
   },
   "outputs": [],
   "source": [
    "\n",
    "\n",
    "import pandas as pd\n",
    "import numpy as np\n",
    "import nltk\n",
    "from nltk.stem.snowball import SnowballStemmer\n",
    "from nltk.stem import WordNetLemmatizer\n",
    "from nltk import pos_tag\n",
    "import re\n",
    "from sklearn.feature_extraction.text import TfidfVectorizer\n",
    "from functools import lru_cache\n",
    "from sklearn.cluster import KMeans, Birch, SpectralClustering, DBSCAN\n",
    "from sklearn import mixture\n",
    "import matplotlib.pyplot as plt\n",
    "from sklearn.metrics import silhouette_samples, silhouette_score\n",
    "from sklearn import metrics\n",
    "\n",
    "# initializing lemmatizer\n",
    "stemmer = SnowballStemmer(\"english\")\n",
    "wordnet_lemmatizer = WordNetLemmatizer()\n",
    "lemmatize = lru_cache(maxsize=50000)(wordnet_lemmatizer.lemmatize)\n",
    " \n",
    "# ===========helper methods ========================================\n",
    "def remove_non_ascii(s):\n",
    "    return \"\".join(i for i in s if ord(i) < 128)\n",
    "\n",
    "def stop_words_list():\n",
    "    \"\"\"\n",
    "        A stop list specific to the observed timelines composed of noisy words\n",
    "        This list would change for different set of timelines\n",
    "    \"\"\"\n",
    "    stop_words = ['bc', 'http', 'https', 'co', 'rt', 'one', 'us', 'new',\n",
    "              'lol', 'may', 'get', 'want', 'like', 'love', 'no', 'thank', 'would', 'thanks',\n",
    "              'via', 'today', 'gt', 'great', 'watch', 'watched', 'season',\n",
    "              '00p']\n",
    "\n",
    "    stoplist  = set( nltk.corpus.stopwords.words(\"english\") + stop_words)\n",
    "    return stoplist\n",
    "\n",
    "def remove_urls(text):\n",
    "    text = re.sub(r\"(?:\\@|http?\\://)\\S+\", \"\", text)\n",
    "    text = re.sub(r\"(?:\\@|https?\\://)\\S+\", \"\", text)\n",
    "    return text\n",
    "\n",
    "def get_wordnet_pos(treebank_tag):\n",
    "    if treebank_tag.startswith('J'):\n",
    "        return 'a'\n",
    "    elif treebank_tag.startswith('V'):\n",
    "        return 'v'\n",
    "    elif treebank_tag.startswith('N'):\n",
    "        return 'n'\n",
    "    elif treebank_tag.startswith('R'):\n",
    "        return 'r'\n",
    "    else:\n",
    "        return None\n",
    "\n",
    "def tokenize(text):\n",
    "    \"\"\"\n",
    "    helper function to readTweets() removes url and tokenizes text\n",
    "    :param text\n",
    "    \"\"\"\n",
    "    text = remove_urls(text)\n",
    "    text = remove_non_ascii(text)\n",
    "    text = re.sub(r\"\"\"[\\'\\\"]\"\"\",'', text)\n",
    "    regexps = (\n",
    "        r\"\"\"(?:[\\w_]+)\"\"\",                          # regular word\n",
    "        r\"\"\"(?:[a-z][a-z'\\-_]+[a-z])\"\"\"             # word with an apostrophe or a dash\n",
    "    )\n",
    "    tokens_regexp = re.compile(r\"\"\"(%s)\"\"\" % \"|\".join(regexps),\n",
    "                               re.VERBOSE | re.I | re.UNICODE)\n",
    "    return tokens_regexp.findall(text)\n",
    "\n",
    "def replace_acronym(tokens, slang_dict):\n",
    "    new_tokens = []\n",
    "    for token in tokens:\n",
    "        if token in slang_dict:\n",
    "            new_tokens.extend(slang_dict[token].split())\n",
    "        else:\n",
    "            new_tokens.append(token)\n",
    "    return new_tokens\n",
    "\n",
    "def tokenize_and_lemmatize(text, slang_dict, stop_words):\n",
    "    # get the tokens, lowercase - replace acronym\n",
    "    lowered = [item.lower() for item in tokenize(text)]\n",
    "    tokens = replace_acronym(lowered, slang_dict)\n",
    "\n",
    "    \n",
    "    tokens_pos = pos_tag(tokens)\n",
    "    words = []\n",
    "    for token in tokens_pos:\n",
    "        pos = get_wordnet_pos(token[1])\n",
    "        # if verb, noun, adj or adverb include them after lemmatization\n",
    "        if pos is not None and token[0] not in stop_words:\n",
    "            try:\n",
    "                tok = lemmatize(token[0], pos)\n",
    "                words.append(tok)\n",
    "            except UnicodeDecodeError:\n",
    "                pass\n",
    "    # print words\n",
    "    return words\n",
    "\n",
    "def read_in_dict(filename):\n",
    "    dict = {}\n",
    "    with open(filename) as f:\n",
    "        for line in f.readlines():\n",
    "            parts = line.partition(\":\")\n",
    "            dict[parts[0].strip()] = parts[2].strip()\n",
    "    return dict"
   ]
  },
  {
   "cell_type": "code",
   "execution_count": 3,
   "metadata": {
    "collapsed": false,
    "slideshow": {
     "slide_type": "slide"
    }
   },
   "outputs": [],
   "source": [
    "test_df = pd.read_csv(\"data/manually_labelled.csv\",sep=';' , low_memory=False)"
   ]
  },
  {
   "cell_type": "markdown",
   "metadata": {},
   "source": [
    "### Reading the data set int Pandas Dataframe :  \n",
    "___\n",
    "\n",
    "Snippet of the dataframe :  \n",
    "\n"
   ]
  },
  {
   "cell_type": "code",
   "execution_count": 4,
   "metadata": {
    "collapsed": false
   },
   "outputs": [
    {
     "name": "stdout",
     "output_type": "stream",
     "text": [
      "         label                                              tweet   user_id\n",
      "210  #personal  @ashleynconnor applying Chapstick after the de...  73306114\n",
      "211  #personal  I need to remember to order my backpack tomorr...  73306114\n",
      "212  #personal  RT @harto: remembering tomorrow is Friday is l...  73306114\n",
      "213  #personal  @ittybittyanniee omg I am terrified to watch t...  73306114\n",
      "214  #personal          #Scandalfinale tonight and I'm not ready.  73306114\n"
     ]
    }
   ],
   "source": [
    "print(test_df.tail())"
   ]
  },
  {
   "cell_type": "code",
   "execution_count": 5,
   "metadata": {
    "collapsed": false
   },
   "outputs": [
    {
     "name": "stdout",
     "output_type": "stream",
     "text": [
      "Data Count: 215\n"
     ]
    },
    {
     "data": {
      "text/html": [
       "<div>\n",
       "<table border=\"1\" class=\"dataframe\">\n",
       "  <thead>\n",
       "    <tr style=\"text-align: right;\">\n",
       "      <th></th>\n",
       "      <th>tweet</th>\n",
       "      <th>user_id</th>\n",
       "    </tr>\n",
       "    <tr>\n",
       "      <th>label</th>\n",
       "      <th></th>\n",
       "      <th></th>\n",
       "    </tr>\n",
       "  </thead>\n",
       "  <tbody>\n",
       "    <tr>\n",
       "      <th>#ad</th>\n",
       "      <td>16</td>\n",
       "      <td>16</td>\n",
       "    </tr>\n",
       "    <tr>\n",
       "      <th>#business</th>\n",
       "      <td>11</td>\n",
       "      <td>11</td>\n",
       "    </tr>\n",
       "    <tr>\n",
       "      <th>#fashion</th>\n",
       "      <td>5</td>\n",
       "      <td>5</td>\n",
       "    </tr>\n",
       "    <tr>\n",
       "      <th>#job</th>\n",
       "      <td>1</td>\n",
       "      <td>1</td>\n",
       "    </tr>\n",
       "    <tr>\n",
       "      <th>#literature</th>\n",
       "      <td>2</td>\n",
       "      <td>2</td>\n",
       "    </tr>\n",
       "    <tr>\n",
       "      <th>#music</th>\n",
       "      <td>17</td>\n",
       "      <td>17</td>\n",
       "    </tr>\n",
       "    <tr>\n",
       "      <th>#personal</th>\n",
       "      <td>38</td>\n",
       "      <td>38</td>\n",
       "    </tr>\n",
       "    <tr>\n",
       "      <th>#politics</th>\n",
       "      <td>91</td>\n",
       "      <td>91</td>\n",
       "    </tr>\n",
       "    <tr>\n",
       "      <th>#tc</th>\n",
       "      <td>1</td>\n",
       "      <td>1</td>\n",
       "    </tr>\n",
       "    <tr>\n",
       "      <th>#tv</th>\n",
       "      <td>33</td>\n",
       "      <td>33</td>\n",
       "    </tr>\n",
       "  </tbody>\n",
       "</table>\n",
       "</div>"
      ],
      "text/plain": [
       "             tweet  user_id\n",
       "label                      \n",
       "#ad             16       16\n",
       "#business       11       11\n",
       "#fashion         5        5\n",
       "#job             1        1\n",
       "#literature      2        2\n",
       "#music          17       17\n",
       "#personal       38       38\n",
       "#politics       91       91\n",
       "#tc              1        1\n",
       "#tv             33       33"
      ]
     },
     "execution_count": 5,
     "metadata": {},
     "output_type": "execute_result"
    }
   ],
   "source": [
    "print(\"Data Count: %d\" % test_df.count()[0])\n",
    "test_df.groupby('label').count()"
   ]
  },
  {
   "cell_type": "markdown",
   "metadata": {},
   "source": [
    "Count by User "
   ]
  },
  {
   "cell_type": "code",
   "execution_count": 6,
   "metadata": {
    "collapsed": false
   },
   "outputs": [
    {
     "data": {
      "text/html": [
       "<div>\n",
       "<table border=\"1\" class=\"dataframe\">\n",
       "  <thead>\n",
       "    <tr style=\"text-align: right;\">\n",
       "      <th></th>\n",
       "      <th></th>\n",
       "      <th>tweet</th>\n",
       "    </tr>\n",
       "    <tr>\n",
       "      <th>user_id</th>\n",
       "      <th>label</th>\n",
       "      <th></th>\n",
       "    </tr>\n",
       "  </thead>\n",
       "  <tbody>\n",
       "    <tr>\n",
       "      <th>10023372</th>\n",
       "      <th>#politics</th>\n",
       "      <td>1</td>\n",
       "    </tr>\n",
       "    <tr>\n",
       "      <th>14734402</th>\n",
       "      <th>#politics</th>\n",
       "      <td>3</td>\n",
       "    </tr>\n",
       "    <tr>\n",
       "      <th>19087781</th>\n",
       "      <th>#politics</th>\n",
       "      <td>1</td>\n",
       "    </tr>\n",
       "    <tr>\n",
       "      <th>20942633</th>\n",
       "      <th>#business</th>\n",
       "      <td>11</td>\n",
       "    </tr>\n",
       "    <tr>\n",
       "      <th>24102642</th>\n",
       "      <th>#politics</th>\n",
       "      <td>2</td>\n",
       "    </tr>\n",
       "    <tr>\n",
       "      <th>24735229</th>\n",
       "      <th>#politics</th>\n",
       "      <td>1</td>\n",
       "    </tr>\n",
       "    <tr>\n",
       "      <th>26632132</th>\n",
       "      <th>#politics</th>\n",
       "      <td>2</td>\n",
       "    </tr>\n",
       "    <tr>\n",
       "      <th rowspan=\"2\" valign=\"top\">29231236</th>\n",
       "      <th>#literature</th>\n",
       "      <td>2</td>\n",
       "    </tr>\n",
       "    <tr>\n",
       "      <th>#tv</th>\n",
       "      <td>18</td>\n",
       "    </tr>\n",
       "    <tr>\n",
       "      <th>48636686</th>\n",
       "      <th>#politics</th>\n",
       "      <td>2</td>\n",
       "    </tr>\n",
       "    <tr>\n",
       "      <th rowspan=\"3\" valign=\"top\">58953182</th>\n",
       "      <th>#music</th>\n",
       "      <td>3</td>\n",
       "    </tr>\n",
       "    <tr>\n",
       "      <th>#personal</th>\n",
       "      <td>9</td>\n",
       "    </tr>\n",
       "    <tr>\n",
       "      <th>#tc</th>\n",
       "      <td>1</td>\n",
       "    </tr>\n",
       "    <tr>\n",
       "      <th>59598451</th>\n",
       "      <th>#fashion</th>\n",
       "      <td>1</td>\n",
       "    </tr>\n",
       "    <tr>\n",
       "      <th rowspan=\"2\" valign=\"top\">73306114</th>\n",
       "      <th>#personal</th>\n",
       "      <td>7</td>\n",
       "    </tr>\n",
       "    <tr>\n",
       "      <th>#tv</th>\n",
       "      <td>13</td>\n",
       "    </tr>\n",
       "    <tr>\n",
       "      <th>187678724</th>\n",
       "      <th>#politics</th>\n",
       "      <td>3</td>\n",
       "    </tr>\n",
       "    <tr>\n",
       "      <th rowspan=\"4\" valign=\"top\">189333010</th>\n",
       "      <th>#job</th>\n",
       "      <td>1</td>\n",
       "    </tr>\n",
       "    <tr>\n",
       "      <th>#music</th>\n",
       "      <td>1</td>\n",
       "    </tr>\n",
       "    <tr>\n",
       "      <th>#personal</th>\n",
       "      <td>16</td>\n",
       "    </tr>\n",
       "    <tr>\n",
       "      <th>#tv</th>\n",
       "      <td>2</td>\n",
       "    </tr>\n",
       "    <tr>\n",
       "      <th>209559590</th>\n",
       "      <th>#politics</th>\n",
       "      <td>2</td>\n",
       "    </tr>\n",
       "    <tr>\n",
       "      <th>211892358</th>\n",
       "      <th>#politics</th>\n",
       "      <td>1</td>\n",
       "    </tr>\n",
       "    <tr>\n",
       "      <th>344526913</th>\n",
       "      <th>#politics</th>\n",
       "      <td>3</td>\n",
       "    </tr>\n",
       "    <tr>\n",
       "      <th>359710029</th>\n",
       "      <th>#politics</th>\n",
       "      <td>2</td>\n",
       "    </tr>\n",
       "    <tr>\n",
       "      <th>382268135</th>\n",
       "      <th>#politics</th>\n",
       "      <td>2</td>\n",
       "    </tr>\n",
       "    <tr>\n",
       "      <th>419191691</th>\n",
       "      <th>#politics</th>\n",
       "      <td>3</td>\n",
       "    </tr>\n",
       "    <tr>\n",
       "      <th>588753363</th>\n",
       "      <th>#politics</th>\n",
       "      <td>4</td>\n",
       "    </tr>\n",
       "    <tr>\n",
       "      <th>611203907</th>\n",
       "      <th>#politics</th>\n",
       "      <td>2</td>\n",
       "    </tr>\n",
       "    <tr>\n",
       "      <th>902596597</th>\n",
       "      <th>#politics</th>\n",
       "      <td>5</td>\n",
       "    </tr>\n",
       "    <tr>\n",
       "      <th>916046030</th>\n",
       "      <th>#politics</th>\n",
       "      <td>2</td>\n",
       "    </tr>\n",
       "    <tr>\n",
       "      <th>963125190</th>\n",
       "      <th>#personal</th>\n",
       "      <td>3</td>\n",
       "    </tr>\n",
       "    <tr>\n",
       "      <th>1043408910</th>\n",
       "      <th>#politics</th>\n",
       "      <td>1</td>\n",
       "    </tr>\n",
       "    <tr>\n",
       "      <th>1230829058</th>\n",
       "      <th>#politics</th>\n",
       "      <td>1</td>\n",
       "    </tr>\n",
       "    <tr>\n",
       "      <th>1439285520</th>\n",
       "      <th>#politics</th>\n",
       "      <td>3</td>\n",
       "    </tr>\n",
       "    <tr>\n",
       "      <th rowspan=\"2\" valign=\"top\">1621257068</th>\n",
       "      <th>#fashion</th>\n",
       "      <td>1</td>\n",
       "    </tr>\n",
       "    <tr>\n",
       "      <th>#politics</th>\n",
       "      <td>3</td>\n",
       "    </tr>\n",
       "    <tr>\n",
       "      <th>1639305888</th>\n",
       "      <th>#politics</th>\n",
       "      <td>1</td>\n",
       "    </tr>\n",
       "    <tr>\n",
       "      <th>2418179016</th>\n",
       "      <th>#politics</th>\n",
       "      <td>5</td>\n",
       "    </tr>\n",
       "    <tr>\n",
       "      <th>2638290883</th>\n",
       "      <th>#politics</th>\n",
       "      <td>2</td>\n",
       "    </tr>\n",
       "    <tr>\n",
       "      <th rowspan=\"2\" valign=\"top\">2684239213</th>\n",
       "      <th>#fashion</th>\n",
       "      <td>1</td>\n",
       "    </tr>\n",
       "    <tr>\n",
       "      <th>#music</th>\n",
       "      <td>1</td>\n",
       "    </tr>\n",
       "    <tr>\n",
       "      <th>2787176905</th>\n",
       "      <th>#politics</th>\n",
       "      <td>4</td>\n",
       "    </tr>\n",
       "    <tr>\n",
       "      <th>2909475733</th>\n",
       "      <th>#politics</th>\n",
       "      <td>1</td>\n",
       "    </tr>\n",
       "    <tr>\n",
       "      <th>2973332381</th>\n",
       "      <th>#politics</th>\n",
       "      <td>3</td>\n",
       "    </tr>\n",
       "    <tr>\n",
       "      <th rowspan=\"3\" valign=\"top\">2994953628</th>\n",
       "      <th>#ad</th>\n",
       "      <td>16</td>\n",
       "    </tr>\n",
       "    <tr>\n",
       "      <th>#music</th>\n",
       "      <td>1</td>\n",
       "    </tr>\n",
       "    <tr>\n",
       "      <th>#personal</th>\n",
       "      <td>3</td>\n",
       "    </tr>\n",
       "    <tr>\n",
       "      <th>3172753103</th>\n",
       "      <th>#music</th>\n",
       "      <td>10</td>\n",
       "    </tr>\n",
       "    <tr>\n",
       "      <th>3237942378</th>\n",
       "      <th>#politics</th>\n",
       "      <td>6</td>\n",
       "    </tr>\n",
       "    <tr>\n",
       "      <th rowspan=\"2\" valign=\"top\">3317296048</th>\n",
       "      <th>#fashion</th>\n",
       "      <td>2</td>\n",
       "    </tr>\n",
       "    <tr>\n",
       "      <th>#music</th>\n",
       "      <td>1</td>\n",
       "    </tr>\n",
       "    <tr>\n",
       "      <th>3581658501</th>\n",
       "      <th>#politics</th>\n",
       "      <td>1</td>\n",
       "    </tr>\n",
       "    <tr>\n",
       "      <th>705261334875804000</th>\n",
       "      <th>#politics</th>\n",
       "      <td>19</td>\n",
       "    </tr>\n",
       "  </tbody>\n",
       "</table>\n",
       "</div>"
      ],
      "text/plain": [
       "                                tweet\n",
       "user_id            label             \n",
       "10023372           #politics        1\n",
       "14734402           #politics        3\n",
       "19087781           #politics        1\n",
       "20942633           #business       11\n",
       "24102642           #politics        2\n",
       "24735229           #politics        1\n",
       "26632132           #politics        2\n",
       "29231236           #literature      2\n",
       "                   #tv             18\n",
       "48636686           #politics        2\n",
       "58953182           #music           3\n",
       "                   #personal        9\n",
       "                   #tc              1\n",
       "59598451           #fashion         1\n",
       "73306114           #personal        7\n",
       "                   #tv             13\n",
       "187678724          #politics        3\n",
       "189333010          #job             1\n",
       "                   #music           1\n",
       "                   #personal       16\n",
       "                   #tv              2\n",
       "209559590          #politics        2\n",
       "211892358          #politics        1\n",
       "344526913          #politics        3\n",
       "359710029          #politics        2\n",
       "382268135          #politics        2\n",
       "419191691          #politics        3\n",
       "588753363          #politics        4\n",
       "611203907          #politics        2\n",
       "902596597          #politics        5\n",
       "916046030          #politics        2\n",
       "963125190          #personal        3\n",
       "1043408910         #politics        1\n",
       "1230829058         #politics        1\n",
       "1439285520         #politics        3\n",
       "1621257068         #fashion         1\n",
       "                   #politics        3\n",
       "1639305888         #politics        1\n",
       "2418179016         #politics        5\n",
       "2638290883         #politics        2\n",
       "2684239213         #fashion         1\n",
       "                   #music           1\n",
       "2787176905         #politics        4\n",
       "2909475733         #politics        1\n",
       "2973332381         #politics        3\n",
       "2994953628         #ad             16\n",
       "                   #music           1\n",
       "                   #personal        3\n",
       "3172753103         #music          10\n",
       "3237942378         #politics        6\n",
       "3317296048         #fashion         2\n",
       "                   #music           1\n",
       "3581658501         #politics        1\n",
       "705261334875804000 #politics       19"
      ]
     },
     "execution_count": 6,
     "metadata": {},
     "output_type": "execute_result"
    }
   ],
   "source": [
    "test_df.groupby(['user_id','label']).count()"
   ]
  },
  {
   "cell_type": "markdown",
   "metadata": {},
   "source": [
    "#### Count of True Labels :\n",
    "___\n"
   ]
  },
  {
   "cell_type": "code",
   "execution_count": 7,
   "metadata": {
    "collapsed": false
   },
   "outputs": [
    {
     "name": "stdout",
     "output_type": "stream",
     "text": [
      "10\n",
      "{'#literature', '#business', '#tc', '#music', '#personal', '#fashion', '#ad', '#politics', '#tv', '#job'}\n"
     ]
    }
   ],
   "source": [
    "# true labels\n",
    "t_labels = test_df.iloc[:, 0]\n",
    "print (len(set(t_labels)))\n",
    "print(set(t_labels))"
   ]
  },
  {
   "cell_type": "code",
   "execution_count": 8,
   "metadata": {
    "collapsed": false
   },
   "outputs": [],
   "source": [
    "# convert the pandas series (tweet text) to numpy array\n",
    "text = test_df.iloc[:, 1]\n",
    "tweet_text = np.array(text)"
   ]
  },
  {
   "cell_type": "markdown",
   "metadata": {},
   "source": [
    "### TFIDF \n",
    "\n",
    "`vectorizer = TfidfVectorizer(tokenizer=lambda text: tokenize_and_lemmatize(text, slang_dict, stop_words),\n",
    "                                 stop_words=None,\n",
    "                                 max_df=0.9,\n",
    "                                 min_df=3,\n",
    "                                 lowercase=True,\n",
    "                                 decode_error='ignore',\n",
    "                                 ) `"
   ]
  },
  {
   "cell_type": "code",
   "execution_count": 9,
   "metadata": {
    "collapsed": false
   },
   "outputs": [
    {
     "name": "stdout",
     "output_type": "stream",
     "text": [
      "The dimension of TFIDF Model\n",
      "(215, 145)\n"
     ]
    }
   ],
   "source": [
    "def get_tfidf_model(texts, stop_words= None, slang_dict=None):\n",
    "    stop_words = stop_words_list()\n",
    "    vectorizer = TfidfVectorizer(tokenizer=lambda text: tokenize_and_lemmatize(text, slang_dict, stop_words),\n",
    "                                 stop_words=None,\n",
    "                                 max_df=0.9,\n",
    "                                 min_df=3,\n",
    "                                 lowercase=True,\n",
    "                                 decode_error='ignore',\n",
    "                                 )\n",
    "\n",
    "    #print (\"vocabulary_: \", vectorizer.vocabulary_)\n",
    "    \n",
    "    tfidf_model = vectorizer.fit_transform(texts)\n",
    "    return tfidf_model\n",
    "    \n",
    "\n",
    "slang_dict = read_in_dict(\"data/out_slang_map.csv\")\n",
    "tfidf_model = get_tfidf_model(tweet_text[:1000], stop_words_list(), slang_dict)\n",
    "print(\"The dimension of TFIDF Model\")\n",
    "print(tfidf_model.shape)"
   ]
  },
  {
   "cell_type": "markdown",
   "metadata": {},
   "source": [
    "### GMM for extimating the clusters :\n",
    "___\n",
    "\n",
    "Aikaki Information Criteria(AIC) and the Bayesian Information Criterion(BIC)\n"
   ]
  },
  {
   "cell_type": "code",
   "execution_count": 10,
   "metadata": {
    "collapsed": false
   },
   "outputs": [
    {
     "name": "stdout",
     "output_type": "stream",
     "text": [
      "GMM(covariance_type='diag', init_params='wmc', min_covar=0.001,\n",
      "  n_components=10, n_init=10, n_iter=500, params='wmc', random_state=None,\n",
      "  thresh=None, tol=0.001, verbose=0)\n"
     ]
    }
   ],
   "source": [
    "# gmm maximisation\n",
    "clf = mixture.GMM(n_components=10, n_iter=500, n_init=10)\n",
    "print (clf)"
   ]
  },
  {
   "cell_type": "markdown",
   "metadata": {},
   "source": []
  },
  {
   "cell_type": "code",
   "execution_count": 11,
   "metadata": {
    "collapsed": false
   },
   "outputs": [
    {
     "data": {
      "text/plain": [
       "<matplotlib.legend.Legend at 0x7f555d6fb668>"
      ]
     },
     "execution_count": 11,
     "metadata": {},
     "output_type": "execute_result"
    },
    {
     "data": {
      "image/png": "[encoded data removed]",
      "text/plain": [
       "<matplotlib.figure.Figure at 0x7f5563d2c7b8>"
      ]
     },
     "metadata": {},
     "output_type": "display_data"
    }
   ],
   "source": [
    "n_estimators = np.arange(2,50, step=2)\n",
    "tfarray = tfidf_model.toarray()\n",
    "clfs = [mixture.GMM(n, n_iter=500).fit(tfarray) for n in n_estimators]\n",
    "bics = [clf.bic(tfarray) for clf in clfs]\n",
    "aics = [clf.aic(tfarray) for clf in clfs]\n",
    "\n",
    "plt.plot(n_estimators, bics, label= 'BIC')\n",
    "plt.plot(n_estimators, aics, label= 'AIC')\n",
    "plt.legend()"
   ]
  },
  {
   "cell_type": "code",
   "execution_count": 12,
   "metadata": {
    "collapsed": false
   },
   "outputs": [
    {
     "name": "stdout",
     "output_type": "stream",
     "text": [
      "n             bic              aic \n",
      "2             -80341              -82299\n",
      "3             -96605              -99544\n",
      "4             -99882              -103802\n",
      "5             -108790              -113691\n",
      "6             -95042              -100923\n",
      "7             -114560              -121423\n",
      "8             -114261              -122104\n",
      "9             -96225              -105049\n"
     ]
    },
    {
     "data": {
      "image/png": "[encoded data removed]",
      "text/plain": [
       "<matplotlib.figure.Figure at 0x7f5563d2cac8>"
      ]
     },
     "metadata": {},
     "output_type": "display_data"
    }
   ],
   "source": [
    "n_estimators = np.arange(2,10, step=1)\n",
    "tfarray = tfidf_model.toarray()\n",
    "clfs = [mixture.GMM(n, n_iter=500).fit(tfarray) for n in n_estimators]\n",
    "bics = [clf.bic(tfarray) for clf in clfs]\n",
    "aics = [clf.aic(tfarray) for clf in clfs]\n",
    "\n",
    "plt.plot(n_estimators, bics, label= 'BIC')\n",
    "plt.plot(n_estimators, aics, label= 'AIC')\n",
    "plt.legend()\n",
    "\n",
    "i = 1\n",
    "print(\"n             bic              aic \")\n",
    "for x, y in zip(bics, aics):\n",
    "    i += 1\n",
    "    print(\"%d             %d              %d\" % (i, x, y) )"
   ]
  },
  {
   "cell_type": "markdown",
   "metadata": {},
   "source": []
  },
  {
   "cell_type": "code",
   "execution_count": 13,
   "metadata": {
    "collapsed": false
   },
   "outputs": [],
   "source": [
    "# Log probabilities of each data point in tfarray\n",
    "clf = mixture.GMM(n_components=9, n_iter=500).fit(tfarray)\n",
    "#print( clf.score(tfarray))\n"
   ]
  },
  {
   "cell_type": "markdown",
   "metadata": {},
   "source": [
    "### clustering using n = 8"
   ]
  },
  {
   "cell_type": "markdown",
   "metadata": {},
   "source": [
    "####  Kmeans:"
   ]
  },
  {
   "cell_type": "code",
   "execution_count": 14,
   "metadata": {
    "collapsed": false
   },
   "outputs": [
    {
     "name": "stdout",
     "output_type": "stream",
     "text": [
      "Silhouette score                   : 0.157615\n",
      "Adjusted Rand Score                : 0.190748\n",
      "Adjusted Mutual Information Score  : 0.330925\n",
      "Normalized Mutual Information Score: 0.389722\n",
      "Normalized Mutual Information Score: 0.389722\n",
      "Homogeniety Score                  : 0.396766\n",
      "Completeness Score                 : 0.382803\n"
     ]
    }
   ],
   "source": [
    "\n",
    "# run k means :\n",
    "clusters = 8\n",
    "km_model = KMeans(n_clusters=clusters)\n",
    "cluster = km_model.fit_predict(tfidf_model)\n",
    "\n",
    "# result analysis :\n",
    "print(\"Silhouette score                   : %f\" % silhouette_score(tfidf_model, cluster, sample_size=2000))\n",
    "print(\"Adjusted Rand Score                : %f\" % metrics.adjusted_rand_score(t_labels, cluster))\n",
    "print(\"Adjusted Mutual Information Score  : %f\" % metrics.adjusted_mutual_info_score(t_labels, cluster))\n",
    "print(\"Normalized Mutual Information Score: %f\" % metrics.normalized_mutual_info_score(t_labels, cluster))\n",
    "print(\"Normalized Mutual Information Score: %f\" % metrics.normalized_mutual_info_score(t_labels, cluster))\n",
    "print(\"Homogeniety Score                  : %f\" % metrics.homogeneity_score(t_labels, cluster))\n",
    "print(\"Completeness Score                 : %f\" % metrics.completeness_score(t_labels, cluster))"
   ]
  },
  {
   "cell_type": "markdown",
   "metadata": {},
   "source": [
    "#### Birch Clustering:"
   ]
  },
  {
   "cell_type": "code",
   "execution_count": 15,
   "metadata": {
    "collapsed": false
   },
   "outputs": [
    {
     "name": "stdout",
     "output_type": "stream",
     "text": [
      "Silhouette score                   : 0.069237\n",
      "Adjusted Rand Score                : -0.023531\n",
      "Adjusted Mutual Information Score  : 0.125703\n",
      "Normalized Mutual Information Score: 0.205948\n",
      "Normalized Mutual Information Score: 0.205948\n",
      "Homogeniety Score                  : 0.189797\n",
      "Completeness Score                 : 0.223474\n"
     ]
    }
   ],
   "source": [
    "# run Birch:\n",
    "birch = Birch(n_clusters=clusters)\n",
    "cluster = birch.fit_predict(tfidf_model)\n",
    "\n",
    "# result analysis :\n",
    "print(\"Silhouette score                   : %f\" % silhouette_score(tfidf_model, cluster, sample_size=2000))\n",
    "print(\"Adjusted Rand Score                : %f\" % metrics.adjusted_rand_score(t_labels, cluster))\n",
    "print(\"Adjusted Mutual Information Score  : %f\" % metrics.adjusted_mutual_info_score(t_labels, cluster))\n",
    "print(\"Normalized Mutual Information Score: %f\" % metrics.normalized_mutual_info_score(t_labels, cluster))\n",
    "print(\"Normalized Mutual Information Score: %f\" % metrics.normalized_mutual_info_score(t_labels, cluster))\n",
    "print(\"Homogeniety Score                  : %f\" % metrics.homogeneity_score(t_labels, cluster))\n",
    "print(\"Completeness Score                 : %f\" % metrics.completeness_score(t_labels, cluster))"
   ]
  },
  {
   "cell_type": "markdown",
   "metadata": {},
   "source": [
    "#### SpectralClustering"
   ]
  },
  {
   "cell_type": "code",
   "execution_count": 16,
   "metadata": {
    "collapsed": false
   },
   "outputs": [
    {
     "name": "stdout",
     "output_type": "stream",
     "text": [
      "Silhouette score                   : -0.059674\n",
      "Adjusted Rand Score                : 0.133874\n",
      "Adjusted Mutual Information Score  : 0.179747\n",
      "Normalized Mutual Information Score: 0.289356\n",
      "Normalized Mutual Information Score: 0.289356\n",
      "Homogeniety Score                  : 0.239352\n",
      "Completeness Score                 : 0.349807\n"
     ]
    },
    {
     "name": "stderr",
     "output_type": "stream",
     "text": [
      "/home/swati/anaconda3/lib/python3.5/site-packages/sklearn/manifold/spectral_embedding_.py:217: UserWarning: Graph is not fully connected, spectral embedding may not work as expected.\n",
      "  warnings.warn(\"Graph is not fully connected, spectral embedding\"\n"
     ]
    }
   ],
   "source": [
    "# run SpectralClustering\n",
    "spectral = SpectralClustering(n_clusters=clusters,\n",
    "                                          eigen_solver='arpack',\n",
    "                                          affinity=\"nearest_neighbors\")\n",
    "cluster = spectral.fit_predict(tfidf_model)\n",
    "\n",
    "# result analysis :\n",
    "print(\"Silhouette score                   : %f\" % silhouette_score(tfidf_model, cluster, sample_size=2000))\n",
    "print(\"Adjusted Rand Score                : %f\" % metrics.adjusted_rand_score(t_labels, cluster))\n",
    "print(\"Adjusted Mutual Information Score  : %f\" % metrics.adjusted_mutual_info_score(t_labels, cluster))\n",
    "print(\"Normalized Mutual Information Score: %f\" % metrics.normalized_mutual_info_score(t_labels, cluster))\n",
    "print(\"Normalized Mutual Information Score: %f\" % metrics.normalized_mutual_info_score(t_labels, cluster))\n",
    "print(\"Homogeniety Score                  : %f\" % metrics.homogeneity_score(t_labels, cluster))\n",
    "print(\"Completeness Score                 : %f\" % metrics.completeness_score(t_labels, cluster))"
   ]
  },
  {
   "cell_type": "markdown",
   "metadata": {},
   "source": [
    "#### DBSCAN"
   ]
  },
  {
   "cell_type": "code",
   "execution_count": 17,
   "metadata": {
    "collapsed": false,
    "slideshow": {
     "slide_type": "-"
    }
   },
   "outputs": [
    {
     "name": "stdout",
     "output_type": "stream",
     "text": [
      "clusters by DBSCAN: 4\n",
      "Silhouette score                   : -0.061650\n",
      "Adjusted Rand Score                : 0.121870\n",
      "Adjusted Mutual Information Score  : 0.166260\n",
      "Normalized Mutual Information Score: 0.318049\n",
      "Normalized Mutual Information Score: 0.318049\n",
      "Homogeniety Score                  : 0.193501\n",
      "Completeness Score                 : 0.522765\n"
     ]
    }
   ],
   "source": [
    "# db scan\n",
    "dbscan = DBSCAN(eps=.2)\n",
    "cluster = dbscan.fit_predict(tfidf_model)\n",
    "print(\"clusters by DBSCAN: %d\" % len(set(cluster)))\n",
    "# result analysis :\n",
    "print(\"Silhouette score                   : %f\" % silhouette_score(tfidf_model, cluster, sample_size=2000))\n",
    "print(\"Adjusted Rand Score                : %f\" % metrics.adjusted_rand_score(t_labels, cluster))\n",
    "print(\"Adjusted Mutual Information Score  : %f\" % metrics.adjusted_mutual_info_score(t_labels, cluster))\n",
    "print(\"Normalized Mutual Information Score: %f\" % metrics.normalized_mutual_info_score(t_labels, cluster))\n",
    "print(\"Normalized Mutual Information Score: %f\" % metrics.normalized_mutual_info_score(t_labels, cluster))\n",
    "print(\"Homogeniety Score                  : %f\" % metrics.homogeneity_score(t_labels, cluster))\n",
    "print(\"Completeness Score                 : %f\" % metrics.completeness_score(t_labels, cluster))\n"
   ]
  },
  {
   "cell_type": "markdown",
   "metadata": {
    "collapsed": true
   },
   "source": [
    "### Discussion :\n",
    "___\n",
    "\n",
    "* Manual labelling is very subjecting and personally I was not able to give labels to many tweets as they had very vague meaning\n",
    "* The count of tweets per label are very different ( I will try to pick a sample of tweets with better distribution next\n",
    "* GMM : is helpful in coming up with cluster counts using EM\n",
    "* K means seem to perform better than any other clustering "
   ]
  },
  {
   "cell_type": "code",
   "execution_count": null,
   "metadata": {
    "collapsed": true
   },
   "outputs": [],
   "source": []
  }
 ],
 "metadata": {
  "kernelspec": {
   "display_name": "Python 3",
   "language": "python",
   "name": "python3"
  },
  "language_info": {
   "codemirror_mode": {
    "name": "ipython",
    "version": 3
   },
   "file_extension": ".py",
   "mimetype": "text/x-python",
   "name": "python",
   "nbconvert_exporter": "python",
   "pygments_lexer": "ipython3",
   "version": "3.5.1"
  }
 },
 "nbformat": 4,
 "nbformat_minor": 0
}
