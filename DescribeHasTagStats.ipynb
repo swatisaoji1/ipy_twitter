{
 "cells": [
  {
   "cell_type": "markdown",
   "metadata": {},
   "source": [
    "## Looking at the hastags\n",
    "___\n",
    "##### Source file\n",
    "Takes path to csv file that has hashtags stats of indivisula user :  \n",
    "mean_hastags,unique_hashtags,tweets_with_hashtags,no_hashtags,total_tweets"
   ]
  },
  {
   "cell_type": "code",
   "execution_count": 9,
   "metadata": {
    "collapsed": false
   },
   "outputs": [
    {
     "data": {
      "text/html": [
       "<script>jQuery(function() {if (jQuery(\"body.notebook_app\").length == 0) { jQuery(\".input_area\").toggle(); jQuery(\".prompt\").toggle();}});</script>"
      ]
     },
     "metadata": {},
     "output_type": "display_data"
    }
   ],
   "source": [
    "import pandas as pd\n",
    "import IPython.core.display as di\n",
    "import sys\n",
    "\n",
    "# This line will hide code by default when the notebook is exported as HTML\n",
    "di.display_html('<script>jQuery(function() {if (jQuery(\"body.notebook_app\").length == 0) { jQuery(\".input_area\").toggle(); jQuery(\".prompt\").toggle();}});</script>', raw=True)\n"
   ]
  },
  {
   "cell_type": "code",
   "execution_count": 8,
   "metadata": {
    "collapsed": false
   },
   "outputs": [
    {
     "name": "stdout",
     "output_type": "stream",
     "text": [
      "results/hashtag_stats2.csv\n"
     ]
    }
   ],
   "source": [
    "collection = \"results/hashtag_stats2.csv\"\n",
    "print(collection)"
   ]
  },
  {
   "cell_type": "markdown",
   "metadata": {},
   "source": [
    "##### Snippet of the dataframe read from csv"
   ]
  },
  {
   "cell_type": "code",
   "execution_count": 6,
   "metadata": {
    "collapsed": false
   },
   "outputs": [
    {
     "name": "stdout",
     "output_type": "stream",
     "text": [
      "   mean_hastags  unique_hashtags  tweets_with_hashtags  no_hashtags  \\\n",
      "0      1.205128               20                    39           73   \n",
      "1      1.496894              665                   644         2508   \n",
      "2      1.442882              549                   569         2470   \n",
      "3      2.441099             1033                   764         2242   \n",
      "4      1.200000              135                   145         1667   \n",
      "\n",
      "   total_tweets  \n",
      "0           112  \n",
      "1          3152  \n",
      "2          3039  \n",
      "3          3006  \n",
      "4          1812  \n"
     ]
    }
   ],
   "source": [
    "df = pd.read_csv(collection)\n",
    "print(df.head())"
   ]
  },
  {
   "cell_type": "markdown",
   "metadata": {},
   "source": [
    "##### Descriptive statistics"
   ]
  },
  {
   "cell_type": "code",
   "execution_count": 7,
   "metadata": {
    "collapsed": false
   },
   "outputs": [
    {
     "data": {
      "text/html": [
       "<div>\n",
       "<table border=\"1\" class=\"dataframe\">\n",
       "  <thead>\n",
       "    <tr style=\"text-align: right;\">\n",
       "      <th></th>\n",
       "      <th>mean_hastags</th>\n",
       "      <th>unique_hashtags</th>\n",
       "      <th>tweets_with_hashtags</th>\n",
       "      <th>no_hashtags</th>\n",
       "      <th>total_tweets</th>\n",
       "    </tr>\n",
       "  </thead>\n",
       "  <tbody>\n",
       "    <tr>\n",
       "      <th>count</th>\n",
       "      <td>224.000000</td>\n",
       "      <td>224.000000</td>\n",
       "      <td>224.000000</td>\n",
       "      <td>224.000000</td>\n",
       "      <td>224.000000</td>\n",
       "    </tr>\n",
       "    <tr>\n",
       "      <th>mean</th>\n",
       "      <td>1.513349</td>\n",
       "      <td>416.035714</td>\n",
       "      <td>616.183036</td>\n",
       "      <td>1552.875000</td>\n",
       "      <td>2169.058036</td>\n",
       "    </tr>\n",
       "    <tr>\n",
       "      <th>std</th>\n",
       "      <td>0.572315</td>\n",
       "      <td>382.010000</td>\n",
       "      <td>584.240350</td>\n",
       "      <td>922.406607</td>\n",
       "      <td>1078.597666</td>\n",
       "    </tr>\n",
       "    <tr>\n",
       "      <th>min</th>\n",
       "      <td>1.000000</td>\n",
       "      <td>8.000000</td>\n",
       "      <td>13.000000</td>\n",
       "      <td>4.000000</td>\n",
       "      <td>57.000000</td>\n",
       "    </tr>\n",
       "    <tr>\n",
       "      <th>25%</th>\n",
       "      <td>1.209177</td>\n",
       "      <td>132.000000</td>\n",
       "      <td>165.000000</td>\n",
       "      <td>799.000000</td>\n",
       "      <td>1299.000000</td>\n",
       "    </tr>\n",
       "    <tr>\n",
       "      <th>50%</th>\n",
       "      <td>1.365772</td>\n",
       "      <td>306.000000</td>\n",
       "      <td>388.000000</td>\n",
       "      <td>1657.000000</td>\n",
       "      <td>2798.000000</td>\n",
       "    </tr>\n",
       "    <tr>\n",
       "      <th>75%</th>\n",
       "      <td>1.564814</td>\n",
       "      <td>601.750000</td>\n",
       "      <td>1024.000000</td>\n",
       "      <td>2475.000000</td>\n",
       "      <td>2994.750000</td>\n",
       "    </tr>\n",
       "    <tr>\n",
       "      <th>max</th>\n",
       "      <td>5.292894</td>\n",
       "      <td>2008.000000</td>\n",
       "      <td>2849.000000</td>\n",
       "      <td>3018.000000</td>\n",
       "      <td>3166.000000</td>\n",
       "    </tr>\n",
       "  </tbody>\n",
       "</table>\n",
       "</div>"
      ],
      "text/plain": [
       "       mean_hastags  unique_hashtags  tweets_with_hashtags  no_hashtags  \\\n",
       "count    224.000000       224.000000            224.000000   224.000000   \n",
       "mean       1.513349       416.035714            616.183036  1552.875000   \n",
       "std        0.572315       382.010000            584.240350   922.406607   \n",
       "min        1.000000         8.000000             13.000000     4.000000   \n",
       "25%        1.209177       132.000000            165.000000   799.000000   \n",
       "50%        1.365772       306.000000            388.000000  1657.000000   \n",
       "75%        1.564814       601.750000           1024.000000  2475.000000   \n",
       "max        5.292894      2008.000000           2849.000000  3018.000000   \n",
       "\n",
       "       total_tweets  \n",
       "count    224.000000  \n",
       "mean    2169.058036  \n",
       "std     1078.597666  \n",
       "min       57.000000  \n",
       "25%     1299.000000  \n",
       "50%     2798.000000  \n",
       "75%     2994.750000  \n",
       "max     3166.000000  "
      ]
     },
     "execution_count": 7,
     "metadata": {},
     "output_type": "execute_result"
    }
   ],
   "source": [
    "df.describe()"
   ]
  },
  {
   "cell_type": "code",
   "execution_count": null,
   "metadata": {
    "collapsed": true
   },
   "outputs": [],
   "source": []
  }
 ],
 "metadata": {
  "kernelspec": {
   "display_name": "Python 3",
   "language": "python",
   "name": "python3"
  },
  "language_info": {
   "codemirror_mode": {
    "name": "ipython",
    "version": 3
   },
   "file_extension": ".py",
   "mimetype": "text/x-python",
   "name": "python",
   "nbconvert_exporter": "python",
   "pygments_lexer": "ipython3",
   "version": "3.5.1"
  }
 },
 "nbformat": 4,
 "nbformat_minor": 0
}
