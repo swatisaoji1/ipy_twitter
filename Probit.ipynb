{
 "cells": [
  {
   "cell_type": "code",
   "execution_count": 2,
   "metadata": {
    "collapsed": true
   },
   "outputs": [],
   "source": [
    "from __future__ import print_function\n",
    "import numpy as np\n",
    "from scipy import stats\n",
    "import statsmodels.api as sm\n",
    "from statsmodels.base.model import GenericLikelihoodModel"
   ]
  },
  {
   "cell_type": "markdown",
   "metadata": {},
   "source": [
    "The data listed in Appendix Table F21.1 were taken from a study by Spector and Mazzeo\n",
    "(1980), which examined whether a new method of teaching economics, the Personalized\n",
    "System of Instruction (PSI), significantly influenced performance in later economics courses.\n",
    "The \"dependent variable\" used in our application is GRADE, which indicates the whether\n",
    "a student's grade in an intermediate macroeconomics course was higher than that in the\n",
    "principles course. The other variables are GPA, their grade point average; TUCE, the score\n",
    "on a pretest that indicates entering knowledge of the material; and PSI, the binary variable\n",
    "indicator of whether the student was exposed to the new teaching method. (Spector and\n",
    "Mazzeo's specific equation was somewhat different from the one estimated here.)"
   ]
  },
  {
   "cell_type": "markdown",
   "metadata": {},
   "source": [
    "### DATASET DESCRIPTION"
   ]
  },
  {
   "cell_type": "code",
   "execution_count": 3,
   "metadata": {
    "collapsed": false
   },
   "outputs": [],
   "source": [
    "data = sm.datasets.spector.load_pandas()"
   ]
  },
  {
   "cell_type": "code",
   "execution_count": 4,
   "metadata": {
    "collapsed": false
   },
   "outputs": [
    {
     "name": "stdout",
     "output_type": "stream",
     "text": [
      "::\n",
      "\n",
      "    Number of Observations - 32\n",
      "\n",
      "    Number of Variables - 4\n",
      "\n",
      "    Variable name definitions::\n",
      "\n",
      "        Grade - binary variable indicating whether or not a student's grade\n",
      "                improved.  1 indicates an improvement.\n",
      "        TUCE  - Test score on economics test\n",
      "        PSI   - participation in program\n",
      "        GPA   - Student's grade point average\n",
      "\n"
     ]
    }
   ],
   "source": [
    "print(sm.datasets.spector.NOTE)"
   ]
  },
  {
   "cell_type": "markdown",
   "metadata": {},
   "source": [
    "#### INDEPENDENT VARIABLES\n",
    "In Our Case Independent Variables would be :\n",
    "- Number of adopter neighbors \n",
    "- Time ?? Since the neighbor because adopted ?\n",
    "\n",
    "I believe currenly our function is a long product , we need to apply log , simplify it and then we can use it here.\n"
   ]
  },
  {
   "cell_type": "code",
   "execution_count": 5,
   "metadata": {
    "collapsed": false
   },
   "outputs": [
    {
     "name": "stdout",
     "output_type": "stream",
     "text": [
      "    GPA  TUCE  PSI\n",
      "0  2.66  20.0  0.0\n",
      "1  2.89  22.0  0.0\n",
      "2  3.28  24.0  0.0\n",
      "3  2.92  12.0  0.0\n",
      "4  4.00  21.0  0.0\n"
     ]
    }
   ],
   "source": [
    "exog = data.exog\n",
    "print(data.exog.head())"
   ]
  },
  {
   "cell_type": "markdown",
   "metadata": {},
   "source": [
    "#### DEPENDENT VARIABLES OR REGRESSORS\n",
    "\n",
    "Here its the binary outcome variable GRADES( which is 0 or 1) indicating improvement or no improvement in grades\n",
    "In Our case it should be adopted or non adopted"
   ]
  },
  {
   "cell_type": "code",
   "execution_count": 6,
   "metadata": {
    "collapsed": false
   },
   "outputs": [
    {
     "name": "stdout",
     "output_type": "stream",
     "text": [
      "0    0.0\n",
      "1    0.0\n",
      "2    0.0\n",
      "3    0.0\n",
      "4    1.0\n",
      "Name: GRADE, dtype: float64\n"
     ]
    }
   ],
   "source": [
    "endog = data.endog\n",
    "print(data.endog.head())"
   ]
  },
  {
   "cell_type": "markdown",
   "metadata": {},
   "source": [
    "STEP 1: Add a constant"
   ]
  },
  {
   "cell_type": "code",
   "execution_count": 7,
   "metadata": {
    "collapsed": false
   },
   "outputs": [
    {
     "name": "stdout",
     "output_type": "stream",
     "text": [
      "   const   GPA  TUCE  PSI\n",
      "0      1  2.66  20.0  0.0\n",
      "1      1  2.89  22.0  0.0\n",
      "2      1  3.28  24.0  0.0\n",
      "3      1  2.92  12.0  0.0\n",
      "4      1  4.00  21.0  0.0\n"
     ]
    }
   ],
   "source": [
    "exog = sm.add_constant(exog, prepend=True)\n",
    "print(exog[:5])"
   ]
  },
  {
   "cell_type": "markdown",
   "metadata": {},
   "source": [
    "STEP 2: Define the Likelihood Function\n",
    "\n",
    "This is the main step that we need to do. Here we need to put the likelihood function.\n",
    "exog and endog are known "
   ]
  },
  {
   "cell_type": "code",
   "execution_count": 8,
   "metadata": {
    "collapsed": true
   },
   "outputs": [],
   "source": [
    "class MyProbit(GenericLikelihoodModel):\n",
    "    def loglike(self, params):\n",
    "        exog = self.exog\n",
    "        endog = self.endog\n",
    "        q = 2 * endog - 1\n",
    "        return stats.norm.logcdf(q*np.dot(exog, params)).sum()\n"
   ]
  },
  {
   "cell_type": "markdown",
   "metadata": {},
   "source": [
    "STEP 3 : Fit the data to the likelihood"
   ]
  },
  {
   "cell_type": "code",
   "execution_count": 9,
   "metadata": {
    "collapsed": false
   },
   "outputs": [
    {
     "name": "stdout",
     "output_type": "stream",
     "text": [
      "Optimization terminated successfully.\n",
      "         Current function value: 0.400588\n",
      "         Iterations: 292\n",
      "         Function evaluations: 494\n"
     ]
    }
   ],
   "source": [
    "sm_probit_manual = MyProbit(endog, exog).fit()"
   ]
  },
  {
   "cell_type": "markdown",
   "metadata": {},
   "source": [
    "STEP 4: Results"
   ]
  },
  {
   "cell_type": "code",
   "execution_count": 10,
   "metadata": {
    "collapsed": false
   },
   "outputs": [
    {
     "name": "stdout",
     "output_type": "stream",
     "text": [
      "                               MyProbit Results                               \n",
      "==============================================================================\n",
      "Dep. Variable:                  GRADE   Log-Likelihood:                -12.819\n",
      "Model:                       MyProbit   AIC:                             33.64\n",
      "Method:            Maximum Likelihood   BIC:                             39.50\n",
      "Date:                Fri, 02 Dec 2016                                         \n",
      "Time:                        12:25:26                                         \n",
      "No. Observations:                  32                                         \n",
      "Df Residuals:                      28                                         \n",
      "Df Model:                           3                                         \n",
      "==============================================================================\n",
      "                 coef    std err          z      P>|z|      [95.0% Conf. Int.]\n",
      "------------------------------------------------------------------------------\n",
      "const         -7.4523      2.542     -2.931      0.003       -12.435    -2.469\n",
      "GPA            1.6258      0.694      2.343      0.019         0.266     2.986\n",
      "TUCE           0.0517      0.084      0.617      0.537        -0.113     0.216\n",
      "PSI            1.4263      0.595      2.397      0.017         0.260     2.593\n",
      "==============================================================================\n"
     ]
    }
   ],
   "source": [
    "print(sm_probit_manual.summary())"
   ]
  },
  {
   "cell_type": "code",
   "execution_count": null,
   "metadata": {
    "collapsed": true
   },
   "outputs": [],
   "source": []
  }
 ],
 "metadata": {
  "kernelspec": {
   "display_name": "Python 2",
   "language": "python",
   "name": "python2"
  },
  "language_info": {
   "codemirror_mode": {
    "name": "ipython",
    "version": 2
   },
   "file_extension": ".py",
   "mimetype": "text/x-python",
   "name": "python",
   "nbconvert_exporter": "python",
   "pygments_lexer": "ipython2",
   "version": "2.7.10"
  }
 },
 "nbformat": 4,
 "nbformat_minor": 0
}
