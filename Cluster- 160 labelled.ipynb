{
 "cells": [
  {
   "cell_type": "code",
   "execution_count": 1,
   "metadata": {
    "collapsed": true,
    "slideshow": {
     "slide_type": "slide"
    }
   },
   "outputs": [],
   "source": [
    "%matplotlib inline\n",
    "import pandas as pd\n",
    "import numpy as np\n",
    "import nltk\n",
    "from nltk.stem.snowball import SnowballStemmer\n",
    "from nltk.stem import WordNetLemmatizer\n",
    "from nltk import pos_tag\n",
    "import re\n",
    "from sklearn.feature_extraction.text import TfidfVectorizer\n",
    "from functools import lru_cache\n",
    "from sklearn.cluster import KMeans, Birch, SpectralClustering, DBSCAN\n",
    "from sklearn import mixture\n",
    "import matplotlib.pyplot as plt\n",
    "from sklearn.metrics import silhouette_samples, silhouette_score\n",
    "from sklearn import metrics\n",
    "\n",
    "LABEL = \"160_labelled\"\n",
    "\n",
    "# initializing lemmatizer\n",
    "stemmer = SnowballStemmer(\"english\")\n",
    "wordnet_lemmatizer = WordNetLemmatizer()\n",
    "lemmatize = lru_cache(maxsize=50000)(wordnet_lemmatizer.lemmatize)\n",
    " \n",
    "# ===========helper methods ========================================\n",
    "def remove_non_ascii(s):\n",
    "    return \"\".join(i for i in s if ord(i) < 128)\n",
    "\n",
    "def stop_words_list():\n",
    "    \"\"\"\n",
    "        A stop list specific to the observed timelines composed of noisy words\n",
    "        This list would change for different set of timelines\n",
    "    \"\"\"\n",
    "    stop_words = ['bc', 'http', 'https', 'co', 'rt', 'one', 'us', 'new',\n",
    "              'lol', 'may', 'get', 'want', 'like', 'love', 'no', 'thank', 'would', 'thanks',\n",
    "              'via', 'today', 'gt', 'great', 'watch', 'watched', 'season',\n",
    "              '00p']\n",
    "\n",
    "    stoplist  = set( nltk.corpus.stopwords.words(\"english\") + stop_words)\n",
    "    return stoplist\n",
    "\n",
    "def remove_urls(text):\n",
    "    text = re.sub(r\"(?:\\@|http?\\://)\\S+\", \"\", text)\n",
    "    text = re.sub(r\"(?:\\@|https?\\://)\\S+\", \"\", text)\n",
    "    return text\n",
    "\n",
    "def get_wordnet_pos(treebank_tag):\n",
    "    if treebank_tag.startswith('J'):\n",
    "        return 'a'\n",
    "    elif treebank_tag.startswith('V'):\n",
    "        return 'v'\n",
    "    elif treebank_tag.startswith('N'):\n",
    "        return 'n'\n",
    "    elif treebank_tag.startswith('R'):\n",
    "        return 'r'\n",
    "    else:\n",
    "        return None\n",
    "\n",
    "def tokenize(text):\n",
    "    \"\"\"\n",
    "    helper function to readTweets() removes url and tokenizes text\n",
    "    :param text\n",
    "    \"\"\"\n",
    "    text = remove_urls(text)\n",
    "    text = remove_non_ascii(text)\n",
    "    text = re.sub(r\"\"\"[\\'\\\"]\"\"\",'', text)\n",
    "    regexps = (\n",
    "        r\"\"\"(?:[\\w_]+)\"\"\",                          # regular word\n",
    "        r\"\"\"(?:[a-z][a-z'\\-_]+[a-z])\"\"\"             # word with an apostrophe or a dash\n",
    "    )\n",
    "    tokens_regexp = re.compile(r\"\"\"(%s)\"\"\" % \"|\".join(regexps),\n",
    "                               re.VERBOSE | re.I | re.UNICODE)\n",
    "    return tokens_regexp.findall(text)\n",
    "\n",
    "def replace_acronym(tokens, slang_dict):\n",
    "    new_tokens = []\n",
    "    for token in tokens:\n",
    "        if token in slang_dict:\n",
    "            new_tokens.extend(slang_dict[token].split())\n",
    "        else:\n",
    "            new_tokens.append(token)\n",
    "    return new_tokens\n",
    "\n",
    "def tokenize_and_lemmatize(text, slang_dict, stop_words):\n",
    "    # get the tokens, lowercase - replace acronym\n",
    "    lowered = [item.lower() for item in tokenize(text)]\n",
    "    tokens = replace_acronym(lowered, slang_dict)\n",
    "\n",
    "    \n",
    "    tokens_pos = pos_tag(tokens)\n",
    "    words = []\n",
    "    for token in tokens_pos:\n",
    "        pos = get_wordnet_pos(token[1])\n",
    "        # if verb, noun, adj or adverb include them after lemmatization\n",
    "        if pos is not None and token[0] not in stop_words:\n",
    "            try:\n",
    "                tok = lemmatize(token[0], pos)\n",
    "                words.append(tok)\n",
    "            except UnicodeDecodeError:\n",
    "                pass\n",
    "    # print words\n",
    "    return words\n",
    "\n",
    "def read_in_dict(filename):\n",
    "    dict = {}\n",
    "    with open(filename) as f:\n",
    "        for line in f.readlines():\n",
    "            parts = line.partition(\":\")\n",
    "            dict[parts[0].strip()] = parts[2].strip()\n",
    "    return dict"
   ]
  },
  {
   "cell_type": "code",
   "execution_count": 2,
   "metadata": {
    "collapsed": true,
    "slideshow": {
     "slide_type": "slide"
    }
   },
   "outputs": [],
   "source": [
    "test_df = pd.read_csv(\"data/cluster_test.csv\",  low_memory=False)"
   ]
  },
  {
   "cell_type": "markdown",
   "metadata": {},
   "source": [
    "<hr>\n",
    "### <u>About the Dataset </u>\n",
    "Reading the data set, This dataset has 160 tweets , with labels \n",
    "<hr>"
   ]
  },
  {
   "cell_type": "code",
   "execution_count": 3,
   "metadata": {
    "collapsed": false
   },
   "outputs": [
    {
     "name": "stdout",
     "output_type": "stream",
     "text": [
      "   Unnamed: 0      label                                              tweet  \\\n",
      "0           0  #politics  Delano Hotel Sold to Company That Runs SLS, Ra...   \n",
      "1           1  #politics  Who Promoted #PrivateRyan? | RealClearPolitics...   \n",
      "2           2  #politics  #liberty #freedom #gop #democrat #trump #hilla...   \n",
      "3           3  #politics  #liberty #freedom #gop #democrat #trump #hilla...   \n",
      "4           4  #politics  Lead testing inconsistent in Washington school...   \n",
      "\n",
      "                 user  \n",
      "0  730076605708537856  \n",
      "1  730076585378893824  \n",
      "2  730076554542391296  \n",
      "3  730076553850269696  \n",
      "4  730076487123017728  \n"
     ]
    }
   ],
   "source": [
    "print(test_df[:5])"
   ]
  },
  {
   "cell_type": "code",
   "execution_count": 4,
   "metadata": {
    "collapsed": true
   },
   "outputs": [],
   "source": [
    "# convert the pandas series (tweet text) to numpy array\n",
    "text = test_df.iloc[:, 2]\n",
    "tweet_text = np.array(text)"
   ]
  },
  {
   "cell_type": "markdown",
   "metadata": {},
   "source": [
    "Take the column of tweet text and convert to numpy array, for use in tfidf"
   ]
  },
  {
   "cell_type": "code",
   "execution_count": 5,
   "metadata": {
    "collapsed": false
   },
   "outputs": [
    {
     "name": "stdout",
     "output_type": "stream",
     "text": [
      "(160, 90)\n"
     ]
    }
   ],
   "source": [
    "def get_tfidf_model(texts, stop_words= None, slang_dict=None):\n",
    "    stop_words = stop_words_list()\n",
    "    vectorizer = TfidfVectorizer(tokenizer=lambda text: tokenize_and_lemmatize(text, slang_dict, stop_words),\n",
    "                                 stop_words=None,\n",
    "                                 max_df=0.9,\n",
    "                                 min_df=3,\n",
    "                                 lowercase=True,\n",
    "                                 decode_error='ignore',\n",
    "                                 )\n",
    "\n",
    "    #print (\"vocabulary_: \", vectorizer.vocabulary_)\n",
    "    \n",
    "    tfidf_model = vectorizer.fit_transform(texts)\n",
    "    return tfidf_model, vectorizer\n",
    "    \n",
    "\n",
    "slang_dict = read_in_dict(\"data/out_slang_map.csv\")\n",
    "tfidf_model, vectorizer = get_tfidf_model(tweet_text[:1000], stop_words_list(), slang_dict)\n",
    "\n",
    "print(tfidf_model.shape)"
   ]
  },
  {
   "cell_type": "code",
   "execution_count": 6,
   "metadata": {
    "collapsed": false
   },
   "outputs": [
    {
     "name": "stdout",
     "output_type": "stream",
     "text": [
      "GMM(covariance_type='diag', init_params='wmc', min_covar=0.001,\n",
      "  n_components=10, n_init=10, n_iter=500, params='wmc', random_state=None,\n",
      "  thresh=None, tol=0.001, verbose=0)\n"
     ]
    }
   ],
   "source": [
    "# gmm maximisation\n",
    "clf = mixture.GMM(n_components=10, n_iter=500, n_init=10)\n",
    "print (clf)"
   ]
  },
  {
   "cell_type": "markdown",
   "metadata": {},
   "source": [
    "Aikaki Information Criteria(AIC) and the Bayesian Information Criterion(BIC)"
   ]
  },
  {
   "cell_type": "code",
   "execution_count": 7,
   "metadata": {
    "collapsed": false
   },
   "outputs": [
    {
     "data": {
      "text/plain": [
       "<matplotlib.legend.Legend at 0x7f5de1831550>"
      ]
     },
     "execution_count": 7,
     "metadata": {},
     "output_type": "execute_result"
    },
    {
     "data": {
      "image/png": "[encoded data removed]",
      "text/plain": [
       "<matplotlib.figure.Figure at 0x7f5de8284a90>"
      ]
     },
     "metadata": {},
     "output_type": "display_data"
    }
   ],
   "source": [
    "n_estimators = np.arange(2,50, step=2)\n",
    "tfarray = tfidf_model.toarray()\n",
    "clfs = [mixture.GMM(n, n_iter=500).fit(tfarray) for n in n_estimators]\n",
    "bics = [clf.bic(tfarray) for clf in clfs]\n",
    "aics = [clf.aic(tfarray) for clf in clfs]\n",
    "\n",
    "plt.plot(n_estimators, bics, label= 'BIC')\n",
    "plt.plot(n_estimators, aics, label= 'AIC')\n",
    "plt.legend()"
   ]
  },
  {
   "cell_type": "code",
   "execution_count": 8,
   "metadata": {
    "collapsed": false
   },
   "outputs": [
    {
     "name": "stdout",
     "output_type": "stream",
     "text": [
      "n             bic              aic \n",
      "2             -36361              -37471\n",
      "3             -44043              -45710\n",
      "4             -47174              -49397\n",
      "5             -48946              -51726\n",
      "6             -50397              -53733\n",
      "7             -50461              -54354\n",
      "8             -51712              -56162\n",
      "9             -51805              -56811\n",
      "10             -51912              -57475\n",
      "11             -51379              -57499\n"
     ]
    },
    {
     "data": {
      "image/png": "[encoded data removed]",
      "text/plain": [
       "<matplotlib.figure.Figure at 0x7f5de825ca58>"
      ]
     },
     "metadata": {},
     "output_type": "display_data"
    }
   ],
   "source": [
    "n_estimators = np.arange(2,12, step=1)\n",
    "tfarray = tfidf_model.toarray()\n",
    "clfs = [mixture.GMM(n, n_iter=500).fit(tfarray) for n in n_estimators]\n",
    "bics = [clf.bic(tfarray) for clf in clfs]\n",
    "aics = [clf.aic(tfarray) for clf in clfs]\n",
    "\n",
    "plt.plot(n_estimators, bics, label= 'BIC')\n",
    "plt.plot(n_estimators, aics, label= 'AIC')\n",
    "plt.legend()\n",
    "\n",
    "i = 1\n",
    "print(\"n             bic              aic \")\n",
    "for x, y in zip(bics, aics):\n",
    "    i += 1\n",
    "    print(\"%d             %d              %d\" % (i, x, y) )"
   ]
  },
  {
   "cell_type": "code",
   "execution_count": 9,
   "metadata": {
    "collapsed": false
   },
   "outputs": [
    {
     "name": "stdout",
     "output_type": "stream",
     "text": [
      "[ 187.56841126  187.56841126  176.87560436  176.87560436  183.76071692\n",
      "  183.93440144  184.26370036  183.48130774  163.80126059  184.26370036\n",
      "  183.73339671  184.36334544  183.79127462  163.33505506  183.5181768\n",
      "  177.66287725  187.56841126  183.91976056  184.14874747  181.41925617\n",
      "  198.32191254  198.19761814  194.25585628  198.19761814  198.32191254\n",
      "  194.05274534  194.1576273   199.52327808  194.68824056  197.58701912\n",
      "  196.0179341   188.49698799  178.10184362  185.35992365  185.35992365\n",
      "  182.34774834  190.76181775  186.93047374  199.52327808  188.49698799\n",
      "  174.83690525  185.62894242  171.31820464  171.31820464  160.16941853\n",
      "  180.91520845  185.62894242  185.62894242  178.78470341  185.62894242\n",
      "  178.26642563  175.4475332   175.34889466  180.07794358  183.94500953\n",
      "  164.88053387  171.31820464  179.04732786  180.93536745  185.62894242\n",
      "  191.14764757  191.13954069  197.54259143  200.1513859   198.72996299\n",
      "  198.25093875  200.1513859   196.19073313  198.25093875  200.1513859\n",
      "  196.16223216  198.64845306  189.04871564  186.84566511  196.19073313\n",
      "  182.07166708  200.1513859   196.25275885  196.25275885  197.54259143\n",
      "  190.18425849  186.02742613  190.35427381  190.35427381  184.31239871\n",
      "  181.81419208  188.47740948  185.70987491  183.09175283  178.41676127\n",
      "  184.44950271  184.44950271  180.52107193  181.81419252  181.16558803\n",
      "  185.46128344  184.31122138  181.79625397  190.35427381  182.84890252\n",
      "  193.96483865  193.79094926  185.68564342  193.96483865  190.36407327\n",
      "  193.96483865  184.6659652   184.53252277  177.88197007  187.0587219\n",
      "  193.96483865  171.81001003  187.0587219   193.79094926  185.24727054\n",
      "  193.96483865  187.10978551  185.68564342  182.13777196  177.28977141\n",
      "  188.34166189  195.45554896  177.36373258  177.36373258  177.36373258\n",
      "  188.2862332   182.76716567  195.64895418  179.42309577  191.61593243\n",
      "  185.50169031  185.42912964  188.38308491  191.59547818  195.45554896\n",
      "  195.45554896  195.64895418  195.64895418  195.45554896  195.64895418\n",
      "  187.51971217  189.94899953  183.62095508  193.19743639  185.41916567\n",
      "  186.93626294  179.42309577  187.51971217  178.92993963  191.0748023\n",
      "  187.51971217  187.51971217  191.0748023   189.75269251  193.19743639\n",
      "  160.16941853  193.19743639  186.92670535  187.51971217  184.85867018]\n"
     ]
    }
   ],
   "source": [
    "# Log probabilities of each data point in tfarray\n",
    "clf = mixture.GMM(n_components=9, n_iter=500).fit(tfarray)\n",
    "print( clf.score(tfarray))\n"
   ]
  },
  {
   "cell_type": "markdown",
   "metadata": {},
   "source": [
    "<hr>\n",
    "<b> GMM EM gives 9 clusters </b>\n"
   ]
  },
  {
   "cell_type": "code",
   "execution_count": 15,
   "metadata": {
    "collapsed": false
   },
   "outputs": [
    {
     "name": "stdout",
     "output_type": "stream",
     "text": [
      "Silhouette score                   : 0.233666\n",
      "Adjusted Rand Score                : 0.935626\n",
      "Adjusted Mutual Information Score  : 0.933459\n",
      "Normalized Mutual Information Score: 0.957592\n",
      "Normalized Mutual Information Score: 0.957592\n",
      "Homogeniety Score                  : 0.975833\n",
      "Completeness Score                 : 0.939692\n",
      "<class 'numpy.ndarray'>\n",
      "   Unnamed: 0      label                                              tweet  \\\n",
      "0           0  #politics  Delano Hotel Sold to Company That Runs SLS, Ra...   \n",
      "1           1  #politics  Who Promoted #PrivateRyan? | RealClearPolitics...   \n",
      "2           2  #politics  #liberty #freedom #gop #democrat #trump #hilla...   \n",
      "3           3  #politics  #liberty #freedom #gop #democrat #trump #hilla...   \n",
      "4           4  #politics  Lead testing inconsistent in Washington school...   \n",
      "\n",
      "                 user  cluster  \n",
      "0  730076605708537856        6  \n",
      "1  730076585378893824        6  \n",
      "2  730076554542391296        6  \n",
      "3  730076553850269696        6  \n",
      "4  730076487123017728        6  \n"
     ]
    }
   ],
   "source": [
    "# true labels\n",
    "t_labels = test_df.iloc[:, 1]\n",
    "\n",
    "# run k means :\n",
    "clusters = 9\n",
    "km_model = KMeans(n_clusters=clusters)\n",
    "cluster = km_model.fit_predict(tfidf_model)\n",
    "\n",
    "# result analysis :\n",
    "print(\"Silhouette score                   : %f\" % silhouette_score(tfidf_model, cluster, sample_size=2000))\n",
    "print(\"Adjusted Rand Score                : %f\" % metrics.adjusted_rand_score(t_labels, cluster))\n",
    "print(\"Adjusted Mutual Information Score  : %f\" % metrics.adjusted_mutual_info_score(t_labels, cluster))\n",
    "print(\"Normalized Mutual Information Score: %f\" % metrics.normalized_mutual_info_score(t_labels, cluster))\n",
    "print(\"Normalized Mutual Information Score: %f\" % metrics.normalized_mutual_info_score(t_labels, cluster))\n",
    "print(\"Homogeniety Score                  : %f\" % metrics.homogeneity_score(t_labels, cluster))\n",
    "print(\"Completeness Score                 : %f\" % metrics.completeness_score(t_labels, cluster))\n",
    "\n",
    "print(type(cluster))\n",
    "test_df.loc[:, 'cluster'] = pd.Series(cluster)\n",
    "print(test_df[:5])\n",
    "test_df.to_csv(\"results/kmeans_\" + LABEL + \".csv\")"
   ]
  },
  {
   "cell_type": "code",
   "execution_count": 11,
   "metadata": {
    "collapsed": false
   },
   "outputs": [
    {
     "name": "stdout",
     "output_type": "stream",
     "text": [
      "Cluster 0: food recipe deal enjoy foodporn yum foodie simple roger tonight\n",
      "Cluster 1: music roger aaa start live play terminal say problem sport\n",
      "Cluster 2: news game gamingnews mobile phone apple lovescroll todayng release roger\n",
      "Cluster 3: politics trump roger news freedom dead fuck problem washington amp\n",
      "Cluster 4: fashion style womens top amp photo show kiss life terminal\n",
      "Cluster 5: art roger inspire work f1 slipstream lewishamilton form mercedesamgf1 benz\n",
      "Cluster 6: tv roger movie series life game free show top work\n",
      "Cluster 7: sport uk record terminal open roger awesome need news tour\n",
      "Cluster 8: cruz leave enter white door house race open politics reuters\n"
     ]
    }
   ],
   "source": [
    "# top 10 words in a cluster\n",
    "order_centroids = km_model.cluster_centers_.argsort()[:, ::-1]\n",
    "terms = vectorizer.get_feature_names()\n",
    "for i in range(clusters):\n",
    "    print(\"Cluster %d:\" % i, end='')\n",
    "    for ind in order_centroids[i, :10]:\n",
    "        print(' %s' % terms[ind], end='')\n",
    "    print()"
   ]
  },
  {
   "cell_type": "code",
   "execution_count": 12,
   "metadata": {
    "collapsed": false
   },
   "outputs": [
    {
     "name": "stdout",
     "output_type": "stream",
     "text": [
      "Silhouette score                   : 0.178664\n",
      "Adjusted Rand Score                : 0.571966\n",
      "Adjusted Mutual Information Score  : 0.682479\n",
      "Normalized Mutual Information Score: 0.716375\n",
      "Normalized Mutual Information Score: 0.716375\n",
      "Homogeniety Score                  : 0.713454\n",
      "Completeness Score                 : 0.719308\n"
     ]
    }
   ],
   "source": [
    "# run Birch:\n",
    "birch = Birch(n_clusters=clusters)\n",
    "cluster = birch.fit_predict(tfidf_model)\n",
    "\n",
    "# result analysis :\n",
    "print(\"Silhouette score                   : %f\" % silhouette_score(tfidf_model, cluster, sample_size=2000))\n",
    "print(\"Adjusted Rand Score                : %f\" % metrics.adjusted_rand_score(t_labels, cluster))\n",
    "print(\"Adjusted Mutual Information Score  : %f\" % metrics.adjusted_mutual_info_score(t_labels, cluster))\n",
    "print(\"Normalized Mutual Information Score: %f\" % metrics.normalized_mutual_info_score(t_labels, cluster))\n",
    "print(\"Normalized Mutual Information Score: %f\" % metrics.normalized_mutual_info_score(t_labels, cluster))\n",
    "print(\"Homogeniety Score                  : %f\" % metrics.homogeneity_score(t_labels, cluster))\n",
    "print(\"Completeness Score                 : %f\" % metrics.completeness_score(t_labels, cluster))"
   ]
  },
  {
   "cell_type": "code",
   "execution_count": 13,
   "metadata": {
    "collapsed": false
   },
   "outputs": [
    {
     "name": "stdout",
     "output_type": "stream",
     "text": [
      "Silhouette score                   : 0.230888\n",
      "Adjusted Rand Score                : 0.893085\n",
      "Adjusted Mutual Information Score  : 0.904963\n",
      "Normalized Mutual Information Score: 0.930468\n",
      "Normalized Mutual Information Score: 0.930468\n",
      "Homogeniety Score                  : 0.947349\n",
      "Completeness Score                 : 0.913887\n"
     ]
    }
   ],
   "source": [
    "# run SpectralClustering\n",
    "spectral = SpectralClustering(n_clusters=clusters,\n",
    "                                          eigen_solver='arpack',\n",
    "                                          affinity=\"nearest_neighbors\")\n",
    "cluster = spectral.fit_predict(tfidf_model)\n",
    "\n",
    "# result analysis :\n",
    "print(\"Silhouette score                   : %f\" % silhouette_score(tfidf_model, cluster, sample_size=2000))\n",
    "print(\"Adjusted Rand Score                : %f\" % metrics.adjusted_rand_score(t_labels, cluster))\n",
    "print(\"Adjusted Mutual Information Score  : %f\" % metrics.adjusted_mutual_info_score(t_labels, cluster))\n",
    "print(\"Normalized Mutual Information Score: %f\" % metrics.normalized_mutual_info_score(t_labels, cluster))\n",
    "print(\"Normalized Mutual Information Score: %f\" % metrics.normalized_mutual_info_score(t_labels, cluster))\n",
    "print(\"Homogeniety Score                  : %f\" % metrics.homogeneity_score(t_labels, cluster))\n",
    "print(\"Completeness Score                 : %f\" % metrics.completeness_score(t_labels, cluster))"
   ]
  },
  {
   "cell_type": "code",
   "execution_count": 14,
   "metadata": {
    "collapsed": false,
    "slideshow": {
     "slide_type": "-"
    }
   },
   "outputs": [
    {
     "name": "stdout",
     "output_type": "stream",
     "text": [
      "clusters by DBSCAN: 4\n",
      "Silhouette score                   : 0.049267\n",
      "Adjusted Rand Score                : 0.009247\n",
      "Adjusted Mutual Information Score  : 0.063933\n",
      "Normalized Mutual Information Score: 0.219022\n",
      "Normalized Mutual Information Score: 0.219022\n",
      "Homogeniety Score                  : 0.097742\n",
      "Completeness Score                 : 0.490791\n"
     ]
    }
   ],
   "source": [
    "# db scan\n",
    "dbscan = DBSCAN(eps=.2)\n",
    "cluster = dbscan.fit_predict(tfidf_model)\n",
    "print(\"clusters by DBSCAN: %d\" % len(set(cluster)))\n",
    "# result analysis :\n",
    "print(\"Silhouette score                   : %f\" % silhouette_score(tfidf_model, cluster, sample_size=2000))\n",
    "print(\"Adjusted Rand Score                : %f\" % metrics.adjusted_rand_score(t_labels, cluster))\n",
    "print(\"Adjusted Mutual Information Score  : %f\" % metrics.adjusted_mutual_info_score(t_labels, cluster))\n",
    "print(\"Normalized Mutual Information Score: %f\" % metrics.normalized_mutual_info_score(t_labels, cluster))\n",
    "print(\"Normalized Mutual Information Score: %f\" % metrics.normalized_mutual_info_score(t_labels, cluster))\n",
    "print(\"Homogeniety Score                  : %f\" % metrics.homogeneity_score(t_labels, cluster))\n",
    "print(\"Completeness Score                 : %f\" % metrics.completeness_score(t_labels, cluster))\n"
   ]
  },
  {
   "cell_type": "code",
   "execution_count": null,
   "metadata": {
    "collapsed": true
   },
   "outputs": [],
   "source": []
  }
 ],
 "metadata": {
  "kernelspec": {
   "display_name": "Python 3",
   "language": "python",
   "name": "python3"
  },
  "language_info": {
   "codemirror_mode": {
    "name": "ipython",
    "version": 3
   },
   "file_extension": ".py",
   "mimetype": "text/x-python",
   "name": "python",
   "nbconvert_exporter": "python",
   "pygments_lexer": "ipython3",
   "version": "3.5.1"
  }
 },
 "nbformat": 4,
 "nbformat_minor": 0
}
