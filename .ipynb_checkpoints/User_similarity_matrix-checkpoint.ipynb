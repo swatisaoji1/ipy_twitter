{
 "cells": [
  {
   "cell_type": "code",
   "execution_count": 1,
   "metadata": {
    "collapsed": false
   },
   "outputs": [
    {
     "data": {
      "text/html": [
       "<script>jQuery(function() {if (jQuery(\"body.notebook_app\").length == 0) { jQuery(\".input_area\").toggle(); jQuery(\".prompt\").toggle();}});</script>"
      ]
     },
     "metadata": {},
     "output_type": "display_data"
    }
   ],
   "source": [
    "%matplotlib inline\n",
    "import IPython.core.display as di\n",
    "# This line will hide code by default when the notebook is exported as HTML\n",
    "di.display_html('<script>jQuery(function() {if (jQuery(\"body.notebook_app\").length == 0) { jQuery(\".input_area\").toggle(); jQuery(\".prompt\").toggle();}});</script>', raw=True)\n"
   ]
  },
  {
   "cell_type": "markdown",
   "metadata": {},
   "source": [
    "### Similarity index between users \n",
    "___\n",
    " \n",
    "\n",
    "Given a csv with user_id, tweets, assigned_clusters :  \n",
    "return the n * n matrix(m) of similarity  \n",
    "where:  \n",
    "`m(i, j) = similarity measure between user i & j `\n"
   ]
  },
  {
   "cell_type": "code",
   "execution_count": 2,
   "metadata": {
    "collapsed": false
   },
   "outputs": [],
   "source": [
    "# imports\n",
    "import pandas as pd\n",
    "from scipy.sparse import csc_matrix\n",
    "from sklearn.metrics import pairwise_distances"
   ]
  },
  {
   "cell_type": "code",
   "execution_count": 3,
   "metadata": {
    "collapsed": true
   },
   "outputs": [],
   "source": [
    "#  variables\n",
    "filename = \"results/kmeans_160_labelled.csv\""
   ]
  },
  {
   "cell_type": "markdown",
   "metadata": {},
   "source": [
    "### Snipped of dataframe read from file"
   ]
  },
  {
   "cell_type": "code",
   "execution_count": 4,
   "metadata": {
    "collapsed": false
   },
   "outputs": [
    {
     "name": "stdout",
     "output_type": "stream",
     "text": [
      "   Unnamed: 0  Unnamed: 0.1      label  \\\n",
      "0           0             0  #politics   \n",
      "1           1             1  #politics   \n",
      "2           2             2  #politics   \n",
      "3           3             3  #politics   \n",
      "4           4             4  #politics   \n",
      "\n",
      "                                               tweet                user  \\\n",
      "0  Delano Hotel Sold to Company That Runs SLS, Ra...  730076605708537856   \n",
      "1  Who Promoted #PrivateRyan? | RealClearPolitics...  730076585378893824   \n",
      "2  #liberty #freedom #gop #democrat #trump #hilla...  730076554542391296   \n",
      "3  #liberty #freedom #gop #democrat #trump #hilla...  730076553850269696   \n",
      "4  Lead testing inconsistent in Washington school...  730076487123017728   \n",
      "\n",
      "   cluster  \n",
      "0        6  \n",
      "1        6  \n",
      "2        6  \n",
      "3        6  \n",
      "4        6  \n"
     ]
    }
   ],
   "source": [
    "# lead the file in dataframe\n",
    "df = pd.read_csv(filename,  low_memory=False)\n",
    "print(df[:5])"
   ]
  },
  {
   "cell_type": "markdown",
   "metadata": {},
   "source": [
    "### Pseudo code for vector calculation\n",
    "___\n",
    "\n",
    "given a dataframe of user_id, tweets, cluster  \n",
    "group the data by user_id:  \n",
    "\n",
    "    for each user :    \n",
    "        get total tweet_count      \n",
    "        for each cluster :  \n",
    "            get count of users tweets in that cluster / total tweet  \n",
    "            add to users vector  \n",
    "\n",
    "            \n",
    " eg : if there are 3 clusters 0,1 and 2  \n",
    "  and user A has 5 tweets , 3 in cluster 0, 2 in cluster 1 and 0 in cluster 2  \n",
    "  The vector will be [0.6, 0.4, 0] \n"
   ]
  },
  {
   "cell_type": "code",
   "execution_count": 5,
   "metadata": {
    "collapsed": false
   },
   "outputs": [],
   "source": [
    "# group by clusters\n",
    "def get_user_tuples(df):\n",
    "    grouped_user = df.groupby('user')\n",
    "    grouped_clusters = df.groupby(['user', 'cluster'])\n",
    "    clusters = df.cluster.unique()\n",
    "    users = []\n",
    "    for name, group in grouped_user:\n",
    "        user_tuple = []\n",
    "        total_tweets = len(group)\n",
    "        for each_clusters in clusters:\n",
    "            try:\n",
    "                g = grouped_clusters.get_group((name,each_clusters))\n",
    "                user_tuple.append(len(g)/total_tweets)\n",
    "            except KeyError:\n",
    "                user_tuple.append(0)\n",
    "        users.append((user_tuple))\n",
    "    return users\n",
    "\n",
    "    # print(\"====================\")\n",
    "    # print(grouped_user.get_group(730075223748317189))"
   ]
  },
  {
   "cell_type": "markdown",
   "metadata": {},
   "source": [
    "### Used : sklearn.matrix.pairwise_distances for calculating similarity"
   ]
  },
  {
   "cell_type": "code",
   "execution_count": 6,
   "metadata": {
    "collapsed": false
   },
   "outputs": [
    {
     "name": "stdout",
     "output_type": "stream",
     "text": [
      "[[ 0.  0.  0. ...,  1.  1.  1.]\n",
      " [ 0.  0.  0. ...,  1.  1.  1.]\n",
      " [ 0.  0.  0. ...,  1.  1.  1.]\n",
      " ..., \n",
      " [ 1.  1.  1. ...,  0.  0.  0.]\n",
      " [ 1.  1.  1. ...,  0.  0.  0.]\n",
      " [ 1.  1.  1. ...,  0.  0.  0.]]\n"
     ]
    }
   ],
   "source": [
    "gen = get_user_tuples(df)\n",
    "dist = pairwise_distances(gen, metric='cosine')\n",
    "print(dist)"
   ]
  },
  {
   "cell_type": "code",
   "execution_count": null,
   "metadata": {
    "collapsed": true
   },
   "outputs": [],
   "source": []
  }
 ],
 "metadata": {
  "kernelspec": {
   "display_name": "Python 3",
   "language": "python",
   "name": "python3"
  },
  "language_info": {
   "codemirror_mode": {
    "name": "ipython",
    "version": 3
   },
   "file_extension": ".py",
   "mimetype": "text/x-python",
   "name": "python",
   "nbconvert_exporter": "python",
   "pygments_lexer": "ipython3",
   "version": "3.5.1"
  }
 },
 "nbformat": 4,
 "nbformat_minor": 0
}
