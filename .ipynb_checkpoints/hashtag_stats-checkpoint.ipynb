{
 "cells": [
  {
   "cell_type": "code",
   "execution_count": 1,
   "metadata": {
    "collapsed": false
   },
   "outputs": [
    {
     "name": "stdout",
     "output_type": "stream",
     "text": [
      "added helper in path\n"
     ]
    }
   ],
   "source": [
    "import os, sys\n",
    "\n",
    "newpath = os.getcwd() + \"/helper\"\n",
    "if newpath not in sys.path:\n",
    "    sys.path.insert(0, newpath)\n",
    "    print (\"added helper in path\")"
   ]
  },
  {
   "cell_type": "code",
   "execution_count": 2,
   "metadata": {
    "collapsed": true
   },
   "outputs": [],
   "source": [
    "# imports\n",
    "import db_helper\n",
    "from collections import defaultdict\n",
    "import re\n",
    "import csv"
   ]
  },
  {
   "cell_type": "code",
   "execution_count": 3,
   "metadata": {
    "collapsed": false
   },
   "outputs": [],
   "source": [
    "def get_tweets(collection):\n",
    "    tweet_count = collection.count()\n",
    "    print(tweet_count)\n",
    "    tweet_docs = collection.find(batch_size= 20)\n",
    "    for each_tweet_doc in tweet_docs:\n",
    "        tweet_list = each_tweet_doc['tweet_text'].split(\"=||=\")\n",
    "        if len(tweet_list) > 1:\n",
    "            yield tweet_list\n",
    "\n",
    "def get_hashtag_stats(tweet_gen):\n",
    "    stats = []\n",
    "    for each_users_tweet_list in tweet_gen:\n",
    "        stats.append(get_hash_counts(each_users_tweet_list))\n",
    "    #print (stats)\n",
    "    return stats\n",
    "\n",
    "\n",
    "def get_hash_counts(each_users_tweet_list):\n",
    "    stats = defaultdict(list)\n",
    "    all_hashtags = set()\n",
    "    with_hashtags = 0\n",
    "    no_hashtags = 0\n",
    "    hashtags_count = []\n",
    "    for each_tweet in each_users_tweet_list:\n",
    "        hashtags = get_hashtags(each_tweet)\n",
    "        if len(hashtags) > 0:\n",
    "            with_hashtags += 1\n",
    "        else:\n",
    "            no_hashtags += 1\n",
    "        all_hashtags = all_hashtags | set(hashtags)\n",
    "        hashtags_count.append(len(hashtags))\n",
    "    stats['unique_hashtags'] = len(all_hashtags)\n",
    "    stats['total_tweets'] = len(each_users_tweet_list)\n",
    "    non_zero_hashtags = [x for x in hashtags_count if x > 0]\n",
    "    stats['mean_hastags'] =  0 if len(non_zero_hashtags) == 0 else sum(non_zero_hashtags) / len(non_zero_hashtags)\n",
    "    stats['tweets_with_hashtags'] = with_hashtags\n",
    "    stats['no_hashtags'] = no_hashtags\n",
    "    # print (stats)\n",
    "    return stats\n",
    "\n",
    "\n",
    "def get_hashtags(tweet):\n",
    "    hashtags = re.findall(r\"#(\\w+)\", tweet)\n",
    "    return hashtags"
   ]
  },
  {
   "cell_type": "code",
   "execution_count": 4,
   "metadata": {
    "collapsed": true
   },
   "outputs": [],
   "source": [
    "show = \"AmericanCrime_selected\"\n",
    "result_file = 'results/hashtag_stats2.csv'"
   ]
  },
  {
   "cell_type": "code",
   "execution_count": 5,
   "metadata": {
    "collapsed": false
   },
   "outputs": [
    {
     "name": "stdout",
     "output_type": "stream",
     "text": [
      "353\n",
      "['mean_hastags', 'unique_hashtags', 'tweets_with_hashtags', 'no_hashtags', 'total_tweets']\n"
     ]
    }
   ],
   "source": [
    " # get the collection\n",
    "collection_name = \"tweet_\" + show\n",
    "db = db_helper.Database('stream_store').db\n",
    "collection = db[collection_name]\n",
    "\n",
    "tweet_gen = get_tweets(collection)\n",
    "#print(len(list(tweet_gen)))\n",
    "hash_stats = get_hashtag_stats(tweet_gen)\n",
    "fieldnames = hash_stats[0].keys()\n",
    "print(list(fieldnames))\n",
    "writer = csv.writer(open(result_file, 'w', newline=''))\n",
    "writer.writerow(list(fieldnames))\n",
    "for each_user in hash_stats:\n",
    "    vals = list(each_user.values())\n",
    "    writer.writerow(vals)"
   ]
  },
  {
   "cell_type": "code",
   "execution_count": null,
   "metadata": {
    "collapsed": false
   },
   "outputs": [],
   "source": []
  },
  {
   "cell_type": "code",
   "execution_count": null,
   "metadata": {
    "collapsed": true
   },
   "outputs": [],
   "source": []
  }
 ],
 "metadata": {
  "kernelspec": {
   "display_name": "Python 3",
   "language": "python",
   "name": "python3"
  },
  "language_info": {
   "codemirror_mode": {
    "name": "ipython",
    "version": 3
   },
   "file_extension": ".py",
   "mimetype": "text/x-python",
   "name": "python",
   "nbconvert_exporter": "python",
   "pygments_lexer": "ipython3",
   "version": "3.5.1"
  }
 },
 "nbformat": 4,
 "nbformat_minor": 0
}
