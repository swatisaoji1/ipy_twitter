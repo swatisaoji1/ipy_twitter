{
 "cells": [
  {
   "cell_type": "code",
   "execution_count": 32,
   "metadata": {
    "collapsed": false
   },
   "outputs": [
    {
     "name": "stdout",
     "output_type": "stream",
     "text": [
      "imported \n"
     ]
    }
   ],
   "source": [
    "%matplotlib inline\n",
    "import pandas as pd\n",
    "import numpy as np\n",
    "import nltk\n",
    "from nltk.stem.snowball import SnowballStemmer\n",
    "from nltk.stem import WordNetLemmatizer\n",
    "from nltk import pos_tag\n",
    "import re\n",
    "from sklearn.feature_extraction.text import TfidfVectorizer\n",
    "from functools import lru_cache\n",
    "from sklearn.cluster import KMeans\n",
    "from sklearn.metrics import silhouette_samples, silhouette_score\n",
    "from sklearn import mixture\n",
    "import matplotlib.pyplot as plt\n",
    "\n",
    "print(\"imported \")"
   ]
  },
  {
   "cell_type": "code",
   "execution_count": 33,
   "metadata": {
    "collapsed": true
   },
   "outputs": [],
   "source": [
    "\n",
    "# initializing lemmatizer\n",
    "stemmer = SnowballStemmer(\"english\")\n",
    "wordnet_lemmatizer = WordNetLemmatizer()\n",
    "lemmatize = lru_cache(maxsize=50000)(wordnet_lemmatizer.lemmatize)\n",
    " \n",
    "# ===========helper methods ========================================\n",
    "def remove_non_ascii(s):\n",
    "    return \"\".join(i for i in s if ord(i) < 128)\n",
    "\n",
    "def stop_words_list():\n",
    "    \"\"\"\n",
    "        A stop list specific to the observed timelines composed of noisy words\n",
    "        This list would change for different set of timelines\n",
    "    \"\"\"\n",
    "    stop_words = ['bc', 'http', 'https', 'co', 'rt', 'one', 'us', 'new',\n",
    "              'lol', 'may', 'get', 'want', 'like', 'love', 'no', 'thank', 'would', 'thanks',\n",
    "              'via', 'today', 'gt', 'great', 'watch', 'watched', 'season',\n",
    "              '00p', 'roger']\n",
    "\n",
    "    stoplist  = set( nltk.corpus.stopwords.words(\"english\") + stop_words)\n",
    "    return stoplist\n",
    "\n",
    "def remove_urls(text):\n",
    "    text = re.sub(r\"(?:\\@|http?\\://)\\S+\", \"\", text)\n",
    "    text = re.sub(r\"(?:\\@|https?\\://)\\S+\", \"\", text)\n",
    "    return text\n",
    "\n",
    "def get_wordnet_pos(treebank_tag):\n",
    "    if treebank_tag.startswith('J'):\n",
    "        return 'a'\n",
    "    elif treebank_tag.startswith('V'):\n",
    "        return 'v'\n",
    "    elif treebank_tag.startswith('N'):\n",
    "        return 'n'\n",
    "    elif treebank_tag.startswith('R'):\n",
    "        return 'r'\n",
    "    else:\n",
    "        return None\n",
    "\n",
    "def tokenize(text):\n",
    "    \"\"\"\n",
    "    helper function to readTweets() removes url and tokenizes text\n",
    "    :param text\n",
    "    \"\"\"\n",
    "    text = remove_urls(text)\n",
    "    text = remove_non_ascii(text)\n",
    "    text = re.sub(r\"\"\"[\\'\\\"]\"\"\",'', text)\n",
    "    regexps = (\n",
    "        r\"\"\"(?:[\\w_]+)\"\"\",                          # regular word\n",
    "        r\"\"\"(?:[a-z][a-z'\\-_]+[a-z])\"\"\"             # word with an apostrophe or a dash\n",
    "    )\n",
    "    tokens_regexp = re.compile(r\"\"\"(%s)\"\"\" % \"|\".join(regexps),\n",
    "                               re.VERBOSE | re.I | re.UNICODE)\n",
    "    return tokens_regexp.findall(text)\n",
    "\n",
    "def replace_acronym(tokens, slang_dict):\n",
    "    new_tokens = []\n",
    "    for token in tokens:\n",
    "        if token in slang_dict:\n",
    "            new_tokens.extend(slang_dict[token].split())\n",
    "        else:\n",
    "            new_tokens.append(token)\n",
    "    return new_tokens\n",
    "\n",
    "def tokenize_and_lemmatize(text, slang_dict, stop_words):\n",
    "    # get the tokens, lowercase - replace acronym\n",
    "    lowered = [item.lower() for item in tokenize(text)]\n",
    "    tokens = replace_acronym(lowered, slang_dict)\n",
    "\n",
    "    \n",
    "    tokens_pos = pos_tag(tokens)\n",
    "    words = []\n",
    "    for token in tokens_pos:\n",
    "        pos = get_wordnet_pos(token[1])\n",
    "        # if verb, noun, adj or adverb include them after lemmatization\n",
    "        if pos is not None and token[0] not in stop_words:\n",
    "            try:\n",
    "                tok = lemmatize(token[0], pos)\n",
    "                words.append(tok)\n",
    "            except UnicodeDecodeError:\n",
    "                pass\n",
    "    # print words\n",
    "    return words\n",
    "\n",
    "def read_in_dict(filename):\n",
    "    dict = {}\n",
    "    with open(filename) as f:\n",
    "        for line in f.readlines():\n",
    "            parts = line.partition(\":\")\n",
    "            dict[parts[0].strip()] = parts[2].strip()\n",
    "    return dict\n",
    "\n"
   ]
  },
  {
   "cell_type": "code",
   "execution_count": 38,
   "metadata": {
    "collapsed": false
   },
   "outputs": [
    {
     "name": "stdout",
     "output_type": "stream",
     "text": [
      "(349085, 5)\n",
      "(348611, 5)\n"
     ]
    }
   ],
   "source": [
    "test_df = pd.read_csv(\"data/test.csv\",  low_memory=False)\n",
    "print(test_df.shape)\n",
    "# drop the rows with no tweet lists\n",
    "test_df.dropna(subset=['tweet'], inplace=True)\n",
    "print(test_df.shape)\n"
   ]
  },
  {
   "cell_type": "markdown",
   "metadata": {},
   "source": [
    "Reading the data set"
   ]
  },
  {
   "cell_type": "code",
   "execution_count": 35,
   "metadata": {
    "collapsed": false
   },
   "outputs": [
    {
     "name": "stdout",
     "output_type": "stream",
     "text": [
      "  Unnamed: 0                                              tweet  tweets_count  \\\n",
      "0          0  Check out this musical: https://t.co/ZIzIikRjf...         129.0   \n",
      "1          1          LIVE on #YouNow - https://t.co/AIKnwfKWUX         129.0   \n",
      "2          2          LIVE on #YouNow - https://t.co/3kRLkTdEmG         129.0   \n",
      "3          3          LIVE on #YouNow - https://t.co/g5o35gU0L3         129.0   \n",
      "4          4          LIVE on #YouNow - https://t.co/f1T36k9k0q         129.0   \n",
      "\n",
      "      user_id     user_name  \n",
      "0  2994953628  obeyy_hurr13  \n",
      "1  2994953628  obeyy_hurr13  \n",
      "2  2994953628  obeyy_hurr13  \n",
      "3  2994953628  obeyy_hurr13  \n",
      "4  2994953628  obeyy_hurr13  \n"
     ]
    }
   ],
   "source": [
    "print(test_df[:5])"
   ]
  },
  {
   "cell_type": "code",
   "execution_count": 39,
   "metadata": {
    "collapsed": false
   },
   "outputs": [
    {
     "name": "stdout",
     "output_type": "stream",
     "text": [
      "348611\n"
     ]
    }
   ],
   "source": [
    "# convert the pandas series (tweet text) to numpy array\n",
    "text = test_df.iloc[:, 1]\n",
    "tweet_text = np.array(text)\n",
    "print (len(tweet_text))"
   ]
  },
  {
   "cell_type": "markdown",
   "metadata": {},
   "source": [
    "Take the column of tweet text and convert to numpy array, for use in tfidf"
   ]
  },
  {
   "cell_type": "code",
   "execution_count": null,
   "metadata": {
    "collapsed": false
   },
   "outputs": [],
   "source": [
    "def get_tfidf_model(texts, stop_words= None, slang_dict=None):\n",
    "    stop_words = stop_words_list()\n",
    "    vectorizer = TfidfVectorizer(tokenizer=lambda text: tokenize_and_lemmatize(text, slang_dict, stop_words),\n",
    "                                 stop_words=None,\n",
    "                                 max_df=0.9,\n",
    "                                 min_df=5,\n",
    "                                 lowercase=True,\n",
    "                                 decode_error='ignore',\n",
    "                                 )\n",
    "\n",
    "    #print (\"vocabulary_: \", vectorizer.vocabulary_)\n",
    "    \n",
    "    tfidf_model = vectorizer.fit_transform(texts)\n",
    "    return tfidf_model, vectorizer\n",
    "    \n",
    "\n",
    "slang_dict = read_in_dict(\"data/out_slang_map.csv\")\n",
    "tfidf_model, vectorizer = get_tfidf_model(tweet_text, stop_words_list(), slang_dict)\n",
    "\n",
    "print(tfidf_model.shape)"
   ]
  },
  {
   "cell_type": "code",
   "execution_count": null,
   "metadata": {
    "collapsed": true
   },
   "outputs": [],
   "source": [
    "#store the tfidf\n",
    "with open(\"tfidf/unlabelled.pkl\", 'wb') as handle:\n",
    "    pickle.dump(tfidf_model, handle)"
   ]
  },
  {
   "cell_type": "code",
   "execution_count": null,
   "metadata": {
    "collapsed": true
   },
   "outputs": [],
   "source": [
    "#load the content\n",
    "tfidf_model = pickle.load(open(\"tfidf/unlabelled.pkl\", \"rb\" ) )"
   ]
  },
  {
   "cell_type": "code",
   "execution_count": null,
   "metadata": {
    "collapsed": false
   },
   "outputs": [],
   "source": [
    "# gmm maximisation\n",
    "clf = mixture.GMM(n_components=10, n_iter=500, n_init=10)\n",
    "print (clf)"
   ]
  },
  {
   "cell_type": "markdown",
   "metadata": {},
   "source": [
    "Aikaki Information Criteria(AIC) and the Bayesian Information Criterion(BIC)"
   ]
  },
  {
   "cell_type": "code",
   "execution_count": null,
   "metadata": {
    "collapsed": true
   },
   "outputs": [],
   "source": [
    "n_estimators = np.arange(2,200, step=5)\n",
    "tfarray = tfidf_model.toarray()\n",
    "clfs = [mixture.GMM(n, n_iter=500).fit(tfarray) for n in n_estimators]\n",
    "bics = [clf.bic(tfarray) for clf in clfs]\n",
    "aics = [clf.aic(tfarray) for clf in clfs]\n",
    "\n",
    "plt.plot(n_estimators, bics, label= 'BIC')\n",
    "plt.plot(n_estimators, aics, label= 'AIC')\n",
    "plt.legend()\n"
   ]
  },
  {
   "cell_type": "code",
   "execution_count": null,
   "metadata": {
    "collapsed": false
   },
   "outputs": [],
   "source": [
    "n_estimators = np.arange(2,50, step=2)\n",
    "tfarray = tfidf_model.toarray()\n",
    "clfs = [mixture.GMM(n, n_iter=500).fit(tfarray) for n in n_estimators]\n",
    "bics = [clf.bic(tfarray) for clf in clfs]\n",
    "aics = [clf.aic(tfarray) for clf in clfs]\n",
    "\n",
    "plt.plot(n_estimators, bics, label= 'BIC')\n",
    "plt.plot(n_estimators, aics, label= 'AIC')\n",
    "plt.legend()"
   ]
  },
  {
   "cell_type": "code",
   "execution_count": null,
   "metadata": {
    "collapsed": false
   },
   "outputs": [],
   "source": [
    "n_estimators = np.arange(2,20, step=1)\n",
    "tfarray = tfidf_model.toarray()\n",
    "clfs = [mixture.GMM(n, n_iter=500).fit(tfarray) for n in n_estimators]\n",
    "bics = [clf.bic(tfarray) for clf in clfs]\n",
    "aics = [clf.aic(tfarray) for clf in clfs]\n",
    "\n",
    "plt.plot(n_estimators, bics, label= 'BIC')\n",
    "plt.plot(n_estimators, aics, label= 'AIC')\n",
    "plt.legend()\n",
    "\n",
    "i = 10\n",
    "print(\"n             bic              aic \")\n",
    "for x, y in zip(bics, aics):\n",
    "    i += 1\n",
    "    print(\"%d             %d              %d\" % (i, x, y) )"
   ]
  },
  {
   "cell_type": "markdown",
   "metadata": {
    "collapsed": true
   },
   "source": [
    "<hr>\n",
    "Now , as pper GMM - we know the best fit with least dimentions is obtained at clusters = 12\n",
    "Lets run kmeans \n"
   ]
  },
  {
   "cell_type": "code",
   "execution_count": null,
   "metadata": {
    "collapsed": false
   },
   "outputs": [],
   "source": [
    "# run k means :\n",
    "clusters = 12\n",
    "km_model = KMeans(n_clusters=clusters)\n",
    "cluster = km_model.fit_predict(tfidf_model)\n",
    "\n",
    "# result analysis :\n",
    "print(\"Silhouette score                   : %f\" % silhouette_score(tfidf_model, cluster))\n"
   ]
  },
  {
   "cell_type": "code",
   "execution_count": null,
   "metadata": {
    "collapsed": false
   },
   "outputs": [],
   "source": [
    "order_centroids = km_model.cluster_centers_.argsort()[:, ::-1]\n",
    "terms = vectorizer.get_feature_names()\n",
    "for i in range(clusters):\n",
    "    print(\"Cluster %d:\" % i, end='')\n",
    "    for ind in order_centroids[i, :10]:\n",
    "        print(' %s' % terms[ind], end='')\n",
    "    print()"
   ]
  },
  {
   "cell_type": "code",
   "execution_count": null,
   "metadata": {
    "collapsed": false
   },
   "outputs": [],
   "source": [
    "# ==============================\n",
    "# User Similarity\n",
    "# ==============================\n",
    "\n",
    "'''\n",
    "    given a pandas dataframe with user_id, tweet, cluster_label, caculate pairwirse similarity between users.\n",
    "    \n",
    "'''\n",
    "\n",
    "test_df.loc[:,'cluster'] = pd.Series(cluster)\n",
    "print(test_df[:50])"
   ]
  }
 ],
 "metadata": {
  "kernelspec": {
   "display_name": "Python 3",
   "language": "python",
   "name": "python3"
  },
  "language_info": {
   "codemirror_mode": {
    "name": "ipython",
    "version": 3
   },
   "file_extension": ".py",
   "mimetype": "text/x-python",
   "name": "python",
   "nbconvert_exporter": "python",
   "pygments_lexer": "ipython3",
   "version": "3.5.1"
  }
 },
 "nbformat": 4,
 "nbformat_minor": 0
}
