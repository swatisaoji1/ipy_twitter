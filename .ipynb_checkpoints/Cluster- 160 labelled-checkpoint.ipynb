{
 "cells": [
  {
   "cell_type": "code",
   "execution_count": 61,
   "metadata": {
    "collapsed": true,
    "slideshow": {
     "slide_type": "slide"
    }
   },
   "outputs": [],
   "source": [
    "%matplotlib inline\n",
    "import pandas as pd\n",
    "import numpy as np\n",
    "import nltk\n",
    "from nltk.stem.snowball import SnowballStemmer\n",
    "from nltk.stem import WordNetLemmatizer\n",
    "from nltk import pos_tag\n",
    "import re\n",
    "from sklearn.feature_extraction.text import TfidfVectorizer\n",
    "from functools import lru_cache\n",
    "from sklearn.cluster import KMeans, Birch, SpectralClustering, DBSCAN\n",
    "from sklearn import mixture\n",
    "import matplotlib.pyplot as plt\n",
    "from sklearn.metrics import silhouette_samples, silhouette_score\n",
    "from sklearn import metrics\n",
    "\n",
    "# initializing lemmatizer\n",
    "stemmer = SnowballStemmer(\"english\")\n",
    "wordnet_lemmatizer = WordNetLemmatizer()\n",
    "lemmatize = lru_cache(maxsize=50000)(wordnet_lemmatizer.lemmatize)\n",
    " \n",
    "# ===========helper methods ========================================\n",
    "def remove_non_ascii(s):\n",
    "    return \"\".join(i for i in s if ord(i) < 128)\n",
    "\n",
    "def stop_words_list():\n",
    "    \"\"\"\n",
    "        A stop list specific to the observed timelines composed of noisy words\n",
    "        This list would change for different set of timelines\n",
    "    \"\"\"\n",
    "    stop_words = ['bc', 'http', 'https', 'co', 'rt', 'one', 'us', 'new',\n",
    "              'lol', 'may', 'get', 'want', 'like', 'love', 'no', 'thank', 'would', 'thanks',\n",
    "              'via', 'today', 'gt', 'great', 'watch', 'watched', 'season',\n",
    "              '00p']\n",
    "\n",
    "    stoplist  = set( nltk.corpus.stopwords.words(\"english\") + stop_words)\n",
    "    return stoplist\n",
    "\n",
    "def remove_urls(text):\n",
    "    text = re.sub(r\"(?:\\@|http?\\://)\\S+\", \"\", text)\n",
    "    text = re.sub(r\"(?:\\@|https?\\://)\\S+\", \"\", text)\n",
    "    return text\n",
    "\n",
    "def get_wordnet_pos(treebank_tag):\n",
    "    if treebank_tag.startswith('J'):\n",
    "        return 'a'\n",
    "    elif treebank_tag.startswith('V'):\n",
    "        return 'v'\n",
    "    elif treebank_tag.startswith('N'):\n",
    "        return 'n'\n",
    "    elif treebank_tag.startswith('R'):\n",
    "        return 'r'\n",
    "    else:\n",
    "        return None\n",
    "\n",
    "def tokenize(text):\n",
    "    \"\"\"\n",
    "    helper function to readTweets() removes url and tokenizes text\n",
    "    :param text\n",
    "    \"\"\"\n",
    "    text = remove_urls(text)\n",
    "    text = remove_non_ascii(text)\n",
    "    text = re.sub(r\"\"\"[\\'\\\"]\"\"\",'', text)\n",
    "    regexps = (\n",
    "        r\"\"\"(?:[\\w_]+)\"\"\",                          # regular word\n",
    "        r\"\"\"(?:[a-z][a-z'\\-_]+[a-z])\"\"\"             # word with an apostrophe or a dash\n",
    "    )\n",
    "    tokens_regexp = re.compile(r\"\"\"(%s)\"\"\" % \"|\".join(regexps),\n",
    "                               re.VERBOSE | re.I | re.UNICODE)\n",
    "    return tokens_regexp.findall(text)\n",
    "\n",
    "def replace_acronym(tokens, slang_dict):\n",
    "    new_tokens = []\n",
    "    for token in tokens:\n",
    "        if token in slang_dict:\n",
    "            new_tokens.extend(slang_dict[token].split())\n",
    "        else:\n",
    "            new_tokens.append(token)\n",
    "    return new_tokens\n",
    "\n",
    "def tokenize_and_lemmatize(text, slang_dict, stop_words):\n",
    "    # get the tokens, lowercase - replace acronym\n",
    "    lowered = [item.lower() for item in tokenize(text)]\n",
    "    tokens = replace_acronym(lowered, slang_dict)\n",
    "\n",
    "    \n",
    "    tokens_pos = pos_tag(tokens)\n",
    "    words = []\n",
    "    for token in tokens_pos:\n",
    "        pos = get_wordnet_pos(token[1])\n",
    "        # if verb, noun, adj or adverb include them after lemmatization\n",
    "        if pos is not None and token[0] not in stop_words:\n",
    "            try:\n",
    "                tok = lemmatize(token[0], pos)\n",
    "                words.append(tok)\n",
    "            except UnicodeDecodeError:\n",
    "                pass\n",
    "    # print words\n",
    "    return words\n",
    "\n",
    "def read_in_dict(filename):\n",
    "    dict = {}\n",
    "    with open(filename) as f:\n",
    "        for line in f.readlines():\n",
    "            parts = line.partition(\":\")\n",
    "            dict[parts[0].strip()] = parts[2].strip()\n",
    "    return dict"
   ]
  },
  {
   "cell_type": "code",
   "execution_count": 2,
   "metadata": {
    "collapsed": true,
    "slideshow": {
     "slide_type": "slide"
    }
   },
   "outputs": [],
   "source": [
    "test_df = pd.read_csv(\"data/cluster_test.csv\",  low_memory=False)"
   ]
  },
  {
   "cell_type": "markdown",
   "metadata": {},
   "source": [
    "Reading the data set"
   ]
  },
  {
   "cell_type": "code",
   "execution_count": 3,
   "metadata": {
    "collapsed": false
   },
   "outputs": [
    {
     "name": "stdout",
     "output_type": "stream",
     "text": [
      "   Unnamed: 0      label                                              tweet  \\\n",
      "0           0  #politics  Delano Hotel Sold to Company That Runs SLS, Ra...   \n",
      "1           1  #politics  Who Promoted #PrivateRyan? | RealClearPolitics...   \n",
      "2           2  #politics  #liberty #freedom #gop #democrat #trump #hilla...   \n",
      "3           3  #politics  #liberty #freedom #gop #democrat #trump #hilla...   \n",
      "4           4  #politics  Lead testing inconsistent in Washington school...   \n",
      "\n",
      "                 user  \n",
      "0  730076605708537856  \n",
      "1  730076585378893824  \n",
      "2  730076554542391296  \n",
      "3  730076553850269696  \n",
      "4  730076487123017728  \n"
     ]
    }
   ],
   "source": [
    "print(test_df[:5])"
   ]
  },
  {
   "cell_type": "code",
   "execution_count": 4,
   "metadata": {
    "collapsed": true
   },
   "outputs": [],
   "source": [
    "# convert the pandas series (tweet text) to numpy array\n",
    "text = test_df.iloc[:, 2]\n",
    "tweet_text = np.array(text)"
   ]
  },
  {
   "cell_type": "markdown",
   "metadata": {},
   "source": [
    "Take the column of tweet text and convert to numpy array, for use in tfidf"
   ]
  },
  {
   "cell_type": "code",
   "execution_count": 19,
   "metadata": {
    "collapsed": false
   },
   "outputs": [
    {
     "name": "stdout",
     "output_type": "stream",
     "text": [
      "(160, 90)\n"
     ]
    }
   ],
   "source": [
    "def get_tfidf_model(texts, stop_words= None, slang_dict=None):\n",
    "    stop_words = stop_words_list()\n",
    "    vectorizer = TfidfVectorizer(tokenizer=lambda text: tokenize_and_lemmatize(text, slang_dict, stop_words),\n",
    "                                 stop_words=None,\n",
    "                                 max_df=0.9,\n",
    "                                 min_df=3,\n",
    "                                 lowercase=True,\n",
    "                                 decode_error='ignore',\n",
    "                                 )\n",
    "\n",
    "    #print (\"vocabulary_: \", vectorizer.vocabulary_)\n",
    "    \n",
    "    tfidf_model = vectorizer.fit_transform(texts)\n",
    "    return tfidf_model\n",
    "    \n",
    "\n",
    "slang_dict = read_in_dict(\"data/out_slang_map.csv\")\n",
    "tfidf_model = get_tfidf_model(tweet_text[:1000], stop_words_list(), slang_dict)\n",
    "\n",
    "print(tfidf_model.shape)"
   ]
  },
  {
   "cell_type": "code",
   "execution_count": 15,
   "metadata": {
    "collapsed": false
   },
   "outputs": [
    {
     "name": "stdout",
     "output_type": "stream",
     "text": [
      "GMM(covariance_type='diag', init_params='wmc', min_covar=0.001,\n",
      "  n_components=10, n_init=10, n_iter=500, params='wmc', random_state=None,\n",
      "  thresh=None, tol=0.001, verbose=0)\n"
     ]
    }
   ],
   "source": [
    "# gmm maximisation\n",
    "clf = mixture.GMM(n_components=10, n_iter=500, n_init=10)\n",
    "print (clf)"
   ]
  },
  {
   "cell_type": "markdown",
   "metadata": {},
   "source": [
    "Aikaki Information Criteria(AIC) and the Bayesian Information Criterion(BIC)"
   ]
  },
  {
   "cell_type": "code",
   "execution_count": 17,
   "metadata": {
    "collapsed": false
   },
   "outputs": [
    {
     "data": {
      "text/plain": [
       "<matplotlib.legend.Legend at 0x7f62f73cb4a8>"
      ]
     },
     "execution_count": 17,
     "metadata": {},
     "output_type": "execute_result"
    },
    {
     "data": {
      "image/png": "[encoded data removed]",
      "text/plain": [
       "<matplotlib.figure.Figure at 0x7f62fe3090f0>"
      ]
     },
     "metadata": {},
     "output_type": "display_data"
    }
   ],
   "source": [
    "n_estimators = np.arange(2,50, step=2)\n",
    "tfarray = tfidf_model.toarray()\n",
    "clfs = [mixture.GMM(n, n_iter=500).fit(tfarray) for n in n_estimators]\n",
    "bics = [clf.bic(tfarray) for clf in clfs]\n",
    "aics = [clf.aic(tfarray) for clf in clfs]\n",
    "\n",
    "plt.plot(n_estimators, bics, label= 'BIC')\n",
    "plt.plot(n_estimators, aics, label= 'AIC')\n",
    "plt.legend()"
   ]
  },
  {
   "cell_type": "code",
   "execution_count": 20,
   "metadata": {
    "collapsed": false
   },
   "outputs": [
    {
     "name": "stdout",
     "output_type": "stream",
     "text": [
      "n             bic              aic \n",
      "2             -36361              -37471\n",
      "3             -41307              -42973\n",
      "4             -45982              -48205\n",
      "5             -46987              -49766\n",
      "6             -49414              -52750\n",
      "7             -51215              -55109\n",
      "8             -51561              -56010\n",
      "9             -51679              -56686\n",
      "10             -51158              -56721\n",
      "11             -50953              -57073\n"
     ]
    },
    {
     "data": {
      "image/png": "[encoded data removed]",
      "text/plain": [
       "<matplotlib.figure.Figure at 0x7f62f75049e8>"
      ]
     },
     "metadata": {},
     "output_type": "display_data"
    }
   ],
   "source": [
    "n_estimators = np.arange(2,12, step=1)\n",
    "tfarray = tfidf_model.toarray()\n",
    "clfs = [mixture.GMM(n, n_iter=500).fit(tfarray) for n in n_estimators]\n",
    "bics = [clf.bic(tfarray) for clf in clfs]\n",
    "aics = [clf.aic(tfarray) for clf in clfs]\n",
    "\n",
    "plt.plot(n_estimators, bics, label= 'BIC')\n",
    "plt.plot(n_estimators, aics, label= 'AIC')\n",
    "plt.legend()\n",
    "\n",
    "i = 1\n",
    "print(\"n             bic              aic \")\n",
    "for x, y in zip(bics, aics):\n",
    "    i += 1\n",
    "    print(\"%d             %d              %d\" % (i, x, y) )"
   ]
  },
  {
   "cell_type": "code",
   "execution_count": 21,
   "metadata": {
    "collapsed": false
   },
   "outputs": [
    {
     "name": "stdout",
     "output_type": "stream",
     "text": [
      "[ 194.74873474  194.74873474  186.53003554  186.53003554  189.59017531\n",
      "  206.40505498  211.61477943  212.01964215  188.44239995  211.61477943\n",
      "  210.90625965  211.376539    213.59055524  182.1821954   191.95673175\n",
      "  188.53529144  194.74873474  189.58671882  192.71284503  189.58562339\n",
      "  186.91534107  186.85016119  181.70451563  186.85016119  186.91534107\n",
      "  183.87792459  181.61827614  199.73763691  196.91805652  198.10740234\n",
      "  181.00778821  187.76471763  183.16021164  184.18823436  184.18823436\n",
      "  168.6319444   183.21011543  185.97443248  199.73763691  187.76471763\n",
      "  193.48495615  202.50531448  166.18505511  166.18505511  159.01168894\n",
      "  200.56797388  202.50531448  202.50531448  202.46967253  202.50531448\n",
      "  197.80498421  193.1909238   193.08816904  199.65592275  200.87292894\n",
      "  183.6055304   166.18505511  196.38532978  198.11551315  202.50531448\n",
      "  193.19995065  193.17274407  199.28854055  201.87142389  200.33315569\n",
      "  198.89107044  201.87142389  197.9962536   198.89107044  201.87142389\n",
      "  197.9290825   198.56304052  188.97223242  188.95381262  197.9962536\n",
      "  184.18871902  201.87142389  198.0154915   198.0154915   199.28854055\n",
      "  192.28146596  188.37781003  192.50753383  192.50753383  186.72469887\n",
      "  184.56405932  190.93164249  188.27305036  185.56415323  181.20816638\n",
      "  187.0320588   187.0320588   178.23363232  184.62089739  183.96254732\n",
      "  187.80008728  186.88500914  180.66926012  192.50753383  185.46343101\n",
      "  184.27489185  184.68455262  178.37513444  184.27489185  179.62695799\n",
      "  184.27489185  172.85744515  174.61153844  164.34915238  175.50271285\n",
      "  184.27489185  156.88867728  175.50271285  184.68455262  173.52218506\n",
      "  184.27489185  175.50600707  178.37513444  173.42674076  163.57141566\n",
      "  180.96883044  189.40696803  167.87935292  167.87935292  167.87935292\n",
      "  181.03948477  180.99748774  189.48943549  172.98729393  184.88456806\n",
      "  177.80394691  177.63164241  180.98952995  184.74499564  189.40696803\n",
      "  189.40696803  189.48943549  189.48943549  189.40696803  189.48943549\n",
      "  177.59083904  180.92092523  173.90135834  184.61854284  175.82203203\n",
      "  177.60655799  172.98729393  177.59083904  181.49133507  182.20379459\n",
      "  177.59083904  177.59083904  182.20379459  180.78787856  184.61854284\n",
      "  159.01168894  184.61854284  177.55756863  177.59083904  175.25486086]\n"
     ]
    }
   ],
   "source": [
    "# Log probabilities of each data point in tfarray\n",
    "clf = mixture.GMM(n_components=9, n_iter=500).fit(tfarray)\n",
    "print( clf.score(tfarray))\n"
   ]
  },
  {
   "cell_type": "markdown",
   "metadata": {},
   "source": [
    "<hr>\n",
    "<b> GMM EM gives 9 clusters </b>\n"
   ]
  },
  {
   "cell_type": "code",
   "execution_count": 52,
   "metadata": {
    "collapsed": false
   },
   "outputs": [
    {
     "name": "stdout",
     "output_type": "stream",
     "text": [
      "Silhouette score                   : 0.233491\n",
      "Adjusted Rand Score                : 0.935589\n",
      "Adjusted Mutual Information Score  : 0.933313\n",
      "Normalized Mutual Information Score: 0.957597\n",
      "Normalized Mutual Information Score: 0.957597\n",
      "Homogeniety Score                  : 0.975983\n",
      "Completeness Score                 : 0.939557\n"
     ]
    }
   ],
   "source": [
    "# true labels\n",
    "t_labels = test_df.iloc[:, 1]\n",
    "\n",
    "# run k means :\n",
    "clusters = 9\n",
    "km_model = KMeans(n_clusters=clusters)\n",
    "cluster = km_model.fit_predict(tfidf_model)\n",
    "\n",
    "# result analysis :\n",
    "print(\"Silhouette score                   : %f\" % silhouette_score(tfidf_model, cluster, sample_size=2000))\n",
    "print(\"Adjusted Rand Score                : %f\" % metrics.adjusted_rand_score(t_labels, cluster))\n",
    "print(\"Adjusted Mutual Information Score  : %f\" % metrics.adjusted_mutual_info_score(t_labels, cluster))\n",
    "print(\"Normalized Mutual Information Score: %f\" % metrics.normalized_mutual_info_score(t_labels, cluster))\n",
    "print(\"Normalized Mutual Information Score: %f\" % metrics.normalized_mutual_info_score(t_labels, cluster))\n",
    "print(\"Homogeniety Score                  : %f\" % metrics.homogeneity_score(t_labels, cluster))\n",
    "print(\"Completeness Score                 : %f\" % metrics.completeness_score(t_labels, cluster))"
   ]
  },
  {
   "cell_type": "code",
   "execution_count": 53,
   "metadata": {
    "collapsed": false
   },
   "outputs": [
    {
     "name": "stdout",
     "output_type": "stream",
     "text": [
      "Silhouette score                   : 0.178664\n",
      "Adjusted Rand Score                : 0.571966\n",
      "Adjusted Mutual Information Score  : 0.682479\n",
      "Normalized Mutual Information Score: 0.716375\n",
      "Normalized Mutual Information Score: 0.716375\n",
      "Homogeniety Score                  : 0.713454\n",
      "Completeness Score                 : 0.719308\n"
     ]
    }
   ],
   "source": [
    "# run Birch:\n",
    "birch = Birch(n_clusters=clusters)\n",
    "cluster = birch.fit_predict(tfidf_model)\n",
    "\n",
    "# result analysis :\n",
    "print(\"Silhouette score                   : %f\" % silhouette_score(tfidf_model, cluster, sample_size=2000))\n",
    "print(\"Adjusted Rand Score                : %f\" % metrics.adjusted_rand_score(t_labels, cluster))\n",
    "print(\"Adjusted Mutual Information Score  : %f\" % metrics.adjusted_mutual_info_score(t_labels, cluster))\n",
    "print(\"Normalized Mutual Information Score: %f\" % metrics.normalized_mutual_info_score(t_labels, cluster))\n",
    "print(\"Normalized Mutual Information Score: %f\" % metrics.normalized_mutual_info_score(t_labels, cluster))\n",
    "print(\"Homogeniety Score                  : %f\" % metrics.homogeneity_score(t_labels, cluster))\n",
    "print(\"Completeness Score                 : %f\" % metrics.completeness_score(t_labels, cluster))"
   ]
  },
  {
   "cell_type": "code",
   "execution_count": 58,
   "metadata": {
    "collapsed": false
   },
   "outputs": [
    {
     "name": "stdout",
     "output_type": "stream",
     "text": [
      "Silhouette score                   : 0.230888\n",
      "Adjusted Rand Score                : 0.893085\n",
      "Adjusted Mutual Information Score  : 0.904963\n",
      "Normalized Mutual Information Score: 0.930468\n",
      "Normalized Mutual Information Score: 0.930468\n",
      "Homogeniety Score                  : 0.947349\n",
      "Completeness Score                 : 0.913887\n"
     ]
    }
   ],
   "source": [
    "# run SpectralClustering\n",
    "spectral = SpectralClustering(n_clusters=clusters,\n",
    "                                          eigen_solver='arpack',\n",
    "                                          affinity=\"nearest_neighbors\")\n",
    "cluster = spectral.fit_predict(tfidf_model)\n",
    "\n",
    "# result analysis :\n",
    "print(\"Silhouette score                   : %f\" % silhouette_score(tfidf_model, cluster, sample_size=2000))\n",
    "print(\"Adjusted Rand Score                : %f\" % metrics.adjusted_rand_score(t_labels, cluster))\n",
    "print(\"Adjusted Mutual Information Score  : %f\" % metrics.adjusted_mutual_info_score(t_labels, cluster))\n",
    "print(\"Normalized Mutual Information Score: %f\" % metrics.normalized_mutual_info_score(t_labels, cluster))\n",
    "print(\"Normalized Mutual Information Score: %f\" % metrics.normalized_mutual_info_score(t_labels, cluster))\n",
    "print(\"Homogeniety Score                  : %f\" % metrics.homogeneity_score(t_labels, cluster))\n",
    "print(\"Completeness Score                 : %f\" % metrics.completeness_score(t_labels, cluster))"
   ]
  },
  {
   "cell_type": "code",
   "execution_count": 63,
   "metadata": {
    "collapsed": false,
    "slideshow": {
     "slide_type": "-"
    }
   },
   "outputs": [
    {
     "name": "stdout",
     "output_type": "stream",
     "text": [
      "clusters by DBSCAN: 4\n",
      "Silhouette score                   : 0.049267\n",
      "Adjusted Rand Score                : 0.009247\n",
      "Adjusted Mutual Information Score  : 0.063933\n",
      "Normalized Mutual Information Score: 0.219022\n",
      "Normalized Mutual Information Score: 0.219022\n",
      "Homogeniety Score                  : 0.097742\n",
      "Completeness Score                 : 0.490791\n"
     ]
    }
   ],
   "source": [
    "# db scan\n",
    "dbscan = DBSCAN(eps=.2)\n",
    "cluster = dbscan.fit_predict(tfidf_model)\n",
    "print(\"clusters by DBSCAN: %d\" % len(set(cluster)))\n",
    "# result analysis :\n",
    "print(\"Silhouette score                   : %f\" % silhouette_score(tfidf_model, cluster, sample_size=2000))\n",
    "print(\"Adjusted Rand Score                : %f\" % metrics.adjusted_rand_score(t_labels, cluster))\n",
    "print(\"Adjusted Mutual Information Score  : %f\" % metrics.adjusted_mutual_info_score(t_labels, cluster))\n",
    "print(\"Normalized Mutual Information Score: %f\" % metrics.normalized_mutual_info_score(t_labels, cluster))\n",
    "print(\"Normalized Mutual Information Score: %f\" % metrics.normalized_mutual_info_score(t_labels, cluster))\n",
    "print(\"Homogeniety Score                  : %f\" % metrics.homogeneity_score(t_labels, cluster))\n",
    "print(\"Completeness Score                 : %f\" % metrics.completeness_score(t_labels, cluster))\n"
   ]
  },
  {
   "cell_type": "code",
   "execution_count": null,
   "metadata": {
    "collapsed": true
   },
   "outputs": [],
   "source": []
  }
 ],
 "metadata": {
  "kernelspec": {
   "display_name": "Python 3",
   "language": "python",
   "name": "python3"
  },
  "language_info": {
   "codemirror_mode": {
    "name": "ipython",
    "version": 3
   },
   "file_extension": ".py",
   "mimetype": "text/x-python",
   "name": "python",
   "nbconvert_exporter": "python",
   "pygments_lexer": "ipython3",
   "version": "3.5.1"
  }
 },
 "nbformat": 4,
 "nbformat_minor": 0
}
