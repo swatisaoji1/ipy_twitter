{
 "cells": [
  {
   "cell_type": "markdown",
   "metadata": {},
   "source": [
    "### Get tweets for users "
   ]
  },
  {
   "cell_type": "code",
   "execution_count": 1,
   "metadata": {
    "collapsed": false
   },
   "outputs": [
    {
     "name": "stdout",
     "output_type": "stream",
     "text": [
      "['', '/home/swati/.virtualenvs/twitterProject1/lib/python3.5/site-packages', '', '/home/swati/anaconda3/lib/python35.zip', '/home/swati/anaconda3/lib/python3.5', '/home/swati/anaconda3/lib/python3.5/plat-linux', '/home/swati/anaconda3/lib/python3.5/lib-dynload', '/home/swati/anaconda3/lib/python3.5/site-packages/Sphinx-1.3.5-py3.5.egg', '/home/swati/anaconda3/lib/python3.5/site-packages/setuptools-20.3-py3.5.egg', '/home/swati/anaconda3/lib/python3.5/site-packages', '/home/swati/anaconda3/lib/python3.5/site-packages/IPython/extensions', '/home/swati/.ipython', '/home/swati/.virtualenvs/twitterProject1/lib/python3.5/site-packages']\n",
      "['', '/home/swati/.virtualenvs/twitterProject1/lib/python3.5/site-packages', '', '/home/swati/anaconda3/lib/python35.zip', '/home/swati/anaconda3/lib/python3.5', '/home/swati/anaconda3/lib/python3.5/plat-linux', '/home/swati/anaconda3/lib/python3.5/lib-dynload', '/home/swati/anaconda3/lib/python3.5/site-packages/Sphinx-1.3.5-py3.5.egg', '/home/swati/anaconda3/lib/python3.5/site-packages/setuptools-20.3-py3.5.egg', '/home/swati/anaconda3/lib/python3.5/site-packages', '/home/swati/anaconda3/lib/python3.5/site-packages/IPython/extensions', '/home/swati/.ipython', '/home/swati/.virtualenvs/twitterProject1/lib/python3.5/site-packages']\n",
      "hello\n"
     ]
    }
   ],
   "source": [
    "\n",
    "import os, sys\n",
    "\n",
    "print(sys.path)\n",
    "newpath = os.getcwd() + \"/helper\"\n",
    "print(sys.path)\n",
    "if newpath not in sys.path:\n",
    "    sys.path.insert(0, newpath)\n",
    "print(\"hello\")\n"
   ]
  },
  {
   "cell_type": "code",
   "execution_count": null,
   "metadata": {
    "collapsed": true
   },
   "outputs": [],
   "source": []
  },
  {
   "cell_type": "code",
   "execution_count": 2,
   "metadata": {
    "collapsed": false
   },
   "outputs": [
    {
     "name": "stdout",
     "output_type": "stream",
     "text": [
      "['/media/Store/Spring 2016/899/ipython/helper', '', '/home/swati/.virtualenvs/twitterProject1/lib/python3.5/site-packages', '', '/home/swati/anaconda3/lib/python35.zip', '/home/swati/anaconda3/lib/python3.5', '/home/swati/anaconda3/lib/python3.5/plat-linux', '/home/swati/anaconda3/lib/python3.5/lib-dynload', '/home/swati/anaconda3/lib/python3.5/site-packages/Sphinx-1.3.5-py3.5.egg', '/home/swati/anaconda3/lib/python3.5/site-packages/setuptools-20.3-py3.5.egg', '/home/swati/anaconda3/lib/python3.5/site-packages', '/home/swati/anaconda3/lib/python3.5/site-packages/IPython/extensions', '/home/swati/.ipython', '/home/swati/.virtualenvs/twitterProject1/lib/python3.5/site-packages']\n"
     ]
    }
   ],
   "source": [
    "print(sys.path)"
   ]
  },
  {
   "cell_type": "code",
   "execution_count": 3,
   "metadata": {
    "collapsed": false
   },
   "outputs": [
    {
     "ename": "ImportError",
     "evalue": "No module named 'pymongo'",
     "output_type": "error",
     "traceback": [
      "\u001b[1;31m---------------------------------------------------------------------------\u001b[0m",
      "\u001b[1;31mImportError\u001b[0m                               Traceback (most recent call last)",
      "\u001b[1;32m<ipython-input-3-db7c53d83154>\u001b[0m in \u001b[0;36m<module>\u001b[1;34m()\u001b[0m\n\u001b[1;32m----> 1\u001b[1;33m \u001b[1;32mimport\u001b[0m \u001b[0mdb_helper\u001b[0m\u001b[1;33m\u001b[0m\u001b[0m\n\u001b[0m",
      "\u001b[1;32m/media/Store/Spring 2016/899/ipython/helper/db_helper.py\u001b[0m in \u001b[0;36m<module>\u001b[1;34m()\u001b[0m\n\u001b[1;32m----> 1\u001b[1;33m \u001b[1;32mfrom\u001b[0m \u001b[0mpymongo\u001b[0m \u001b[1;32mimport\u001b[0m \u001b[0mMongoClient\u001b[0m\u001b[1;33m\u001b[0m\u001b[0m\n\u001b[0m\u001b[0;32m      2\u001b[0m \u001b[1;33m\u001b[0m\u001b[0m\n\u001b[0;32m      3\u001b[0m \u001b[1;32mclass\u001b[0m \u001b[0mDatabase\u001b[0m\u001b[1;33m:\u001b[0m\u001b[1;33m\u001b[0m\u001b[0m\n\u001b[0;32m      4\u001b[0m     \u001b[1;32mdef\u001b[0m \u001b[0m__init__\u001b[0m\u001b[1;33m(\u001b[0m\u001b[0mself\u001b[0m\u001b[1;33m,\u001b[0m \u001b[0mdb_name\u001b[0m\u001b[1;33m=\u001b[0m\u001b[1;34m'stream_store'\u001b[0m\u001b[1;33m)\u001b[0m\u001b[1;33m:\u001b[0m\u001b[1;33m\u001b[0m\u001b[0m\n\u001b[0;32m      5\u001b[0m         \u001b[0mclient\u001b[0m \u001b[1;33m=\u001b[0m \u001b[0mMongoClient\u001b[0m\u001b[1;33m(\u001b[0m\u001b[1;33m)\u001b[0m\u001b[1;33m\u001b[0m\u001b[0m\n",
      "\u001b[1;31mImportError\u001b[0m: No module named 'pymongo'"
     ]
    }
   ],
   "source": [
    "import db_helper"
   ]
  },
  {
   "cell_type": "code",
   "execution_count": null,
   "metadata": {
    "collapsed": true
   },
   "outputs": [],
   "source": []
  },
  {
   "cell_type": "code",
   "execution_count": null,
   "metadata": {
    "collapsed": true
   },
   "outputs": [],
   "source": []
  }
 ],
 "metadata": {
  "kernelspec": {
   "display_name": "Python 3",
   "language": "python",
   "name": "python3"
  },
  "language_info": {
   "codemirror_mode": {
    "name": "ipython",
    "version": 3
   },
   "file_extension": ".py",
   "mimetype": "text/x-python",
   "name": "python",
   "nbconvert_exporter": "python",
   "pygments_lexer": "ipython3",
   "version": "3.5.1"
  }
 },
 "nbformat": 4,
 "nbformat_minor": 0
}
