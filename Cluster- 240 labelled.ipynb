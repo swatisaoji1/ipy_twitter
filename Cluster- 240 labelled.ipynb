{
 "cells": [
  {
   "cell_type": "code",
   "execution_count": 1,
   "metadata": {
    "collapsed": false,
    "slideshow": {
     "slide_type": "slide"
    }
   },
   "outputs": [
    {
     "data": {
      "text/html": [
       "<script>jQuery(function() {if (jQuery(\"body.notebook_app\").length == 0) { jQuery(\".input_area\").toggle(); jQuery(\".prompt\").toggle();}});</script>"
      ]
     },
     "metadata": {},
     "output_type": "display_data"
    }
   ],
   "source": [
    "%matplotlib inline\n",
    "import pandas as pd\n",
    "import numpy as np\n",
    "import nltk\n",
    "from nltk.stem.snowball import SnowballStemmer\n",
    "from nltk.stem import WordNetLemmatizer\n",
    "from nltk import pos_tag\n",
    "import re\n",
    "from sklearn.feature_extraction.text import TfidfVectorizer\n",
    "from functools import lru_cache\n",
    "from sklearn.cluster import KMeans, Birch, SpectralClustering, DBSCAN\n",
    "from sklearn import mixture\n",
    "import matplotlib.pyplot as plt\n",
    "from sklearn.metrics import silhouette_samples, silhouette_score\n",
    "from sklearn import metrics\n",
    "import IPython.core.display as di\n",
    "# This line will hide code by default when the notebook is exported as HTML\n",
    "di.display_html('<script>jQuery(function() {if (jQuery(\"body.notebook_app\").length == 0) { jQuery(\".input_area\").toggle(); jQuery(\".prompt\").toggle();}});</script>', raw=True)\n",
    "\n",
    "\n",
    "# initializing lemmatizer\n",
    "stemmer = SnowballStemmer(\"english\")\n",
    "wordnet_lemmatizer = WordNetLemmatizer()\n",
    "lemmatize = lru_cache(maxsize=50000)(wordnet_lemmatizer.lemmatize)\n",
    " \n",
    "# ===========helper methods ========================================\n",
    "def remove_non_ascii(s):\n",
    "    return \"\".join(i for i in s if ord(i) < 128)\n",
    "\n",
    "def stop_words_list():\n",
    "    \"\"\"\n",
    "        A stop list specific to the observed timelines composed of noisy words\n",
    "        This list would change for different set of timelines\n",
    "    \"\"\"\n",
    "    stop_words = ['bc', 'http', 'https', 'co', 'rt', 'one', 'us', 'new',\n",
    "              'lol', 'may', 'get', 'want', 'like', 'love', 'no', 'thank', 'would', 'thanks',\n",
    "              'via', 'today', 'gt', 'great', 'watch', 'watched', 'season',\n",
    "              '00p']\n",
    "\n",
    "    stoplist  = set( nltk.corpus.stopwords.words(\"english\") + stop_words)\n",
    "    return stoplist\n",
    "\n",
    "def remove_urls(text):\n",
    "    text = re.sub(r\"(?:\\@|http?\\://)\\S+\", \"\", text)\n",
    "    text = re.sub(r\"(?:\\@|https?\\://)\\S+\", \"\", text)\n",
    "    return text\n",
    "\n",
    "def get_wordnet_pos(treebank_tag):\n",
    "    if treebank_tag.startswith('J'):\n",
    "        return 'a'\n",
    "    elif treebank_tag.startswith('V'):\n",
    "        return 'v'\n",
    "    elif treebank_tag.startswith('N'):\n",
    "        return 'n'\n",
    "    elif treebank_tag.startswith('R'):\n",
    "        return 'r'\n",
    "    else:\n",
    "        return None\n",
    "\n",
    "def tokenize(text):\n",
    "    \"\"\"\n",
    "    helper function to readTweets() removes url and tokenizes text\n",
    "    :param text\n",
    "    \"\"\"\n",
    "    text = remove_urls(text)\n",
    "    text = remove_non_ascii(text)\n",
    "    text = re.sub(r\"\"\"[\\'\\\"]\"\"\",'', text)\n",
    "    regexps = (\n",
    "        r\"\"\"(?:[\\w_]+)\"\"\",                          # regular word\n",
    "        r\"\"\"(?:[a-z][a-z'\\-_]+[a-z])\"\"\"             # word with an apostrophe or a dash\n",
    "    )\n",
    "    tokens_regexp = re.compile(r\"\"\"(%s)\"\"\" % \"|\".join(regexps),\n",
    "                               re.VERBOSE | re.I | re.UNICODE)\n",
    "    return tokens_regexp.findall(text)\n",
    "\n",
    "def replace_acronym(tokens, slang_dict):\n",
    "    new_tokens = []\n",
    "    for token in tokens:\n",
    "        if token in slang_dict:\n",
    "            new_tokens.extend(slang_dict[token].split())\n",
    "        else:\n",
    "            new_tokens.append(token)\n",
    "    return new_tokens\n",
    "\n",
    "def tokenize_and_lemmatize(text, slang_dict, stop_words):\n",
    "    # get the tokens, lowercase - replace acronym\n",
    "    lowered = [item.lower() for item in tokenize(text)]\n",
    "    tokens = replace_acronym(lowered, slang_dict)\n",
    "\n",
    "    \n",
    "    tokens_pos = pos_tag(tokens)\n",
    "    words = []\n",
    "    for token in tokens_pos:\n",
    "        pos = get_wordnet_pos(token[1])\n",
    "        # if verb, noun, adj or adverb include them after lemmatization\n",
    "        if pos is not None and token[0] not in stop_words:\n",
    "            try:\n",
    "                tok = lemmatize(token[0], pos)\n",
    "                words.append(tok)\n",
    "            except UnicodeDecodeError:\n",
    "                pass\n",
    "    # print words\n",
    "    return words\n",
    "\n",
    "def read_in_dict(filename):\n",
    "    dict = {}\n",
    "    with open(filename) as f:\n",
    "        for line in f.readlines():\n",
    "            parts = line.partition(\":\")\n",
    "            dict[parts[0].strip()] = parts[2].strip()\n",
    "    return dict"
   ]
  },
  {
   "cell_type": "code",
   "execution_count": 2,
   "metadata": {
    "collapsed": true,
    "slideshow": {
     "slide_type": "slide"
    }
   },
   "outputs": [],
   "source": [
    "test_df = pd.read_csv(\"data/cluster_test1.csv\",  low_memory=False)"
   ]
  },
  {
   "cell_type": "markdown",
   "metadata": {},
   "source": [
    "Reading the data set"
   ]
  },
  {
   "cell_type": "code",
   "execution_count": 3,
   "metadata": {
    "collapsed": false
   },
   "outputs": [
    {
     "name": "stdout",
     "output_type": "stream",
     "text": [
      "   Unnamed: 0      label                                              tweet  \\\n",
      "0           0  #politics  Not Just Trump: Jon Stewart Has Some Harsh Cri...   \n",
      "1           1  #politics  Republicans are selling their souls to Donald ...   \n",
      "2           2  #politics  RT @cyberguy: How the #Smartphone is Going to ...   \n",
      "3           3  #politics  This Unusual Indicator Confirms That The Tech ...   \n",
      "4           4  #politics  CBS News Caught Blatantly Distorting Cannabis ...   \n",
      "\n",
      "                 user  \n",
      "0  730453633838551041  \n",
      "1  730453560660348929  \n",
      "2  730453437654155264  \n",
      "3  730453408444977152  \n",
      "4  730453407316717568  \n"
     ]
    }
   ],
   "source": [
    "print(test_df[:5])"
   ]
  },
  {
   "cell_type": "code",
   "execution_count": 4,
   "metadata": {
    "collapsed": true
   },
   "outputs": [],
   "source": [
    "# convert the pandas series (tweet text) to numpy array\n",
    "text = test_df.iloc[:, 2]\n",
    "tweet_text = np.array(text)"
   ]
  },
  {
   "cell_type": "markdown",
   "metadata": {},
   "source": [
    "Take the column of tweet text and convert to numpy array, for use in tfidf"
   ]
  },
  {
   "cell_type": "code",
   "execution_count": 12,
   "metadata": {
    "collapsed": false
   },
   "outputs": [
    {
     "name": "stdout",
     "output_type": "stream",
     "text": [
      "(240, 174)\n"
     ]
    }
   ],
   "source": [
    "def get_tfidf_model(texts, stop_words= None, slang_dict=None):\n",
    "    stop_words = stop_words_list()\n",
    "    vectorizer = TfidfVectorizer(tokenizer=lambda text: tokenize_and_lemmatize(text, slang_dict, stop_words),\n",
    "                                 stop_words=None,\n",
    "                                 max_df=0.9,\n",
    "                                 min_df=3,\n",
    "                                 lowercase=True,\n",
    "                                 decode_error='ignore',\n",
    "                                 )\n",
    "\n",
    "    #print (\"vocabulary_: \", vectorizer.vocabulary_)\n",
    "    \n",
    "    tfidf_model = vectorizer.fit_transform(texts)\n",
    "    return tfidf_model,vectorizer\n",
    "    \n",
    "\n",
    "slang_dict = read_in_dict(\"data/out_slang_map.csv\")\n",
    "tfidf_model, vectorizer = get_tfidf_model(tweet_text[:1000], stop_words_list(), slang_dict)\n",
    "\n",
    "print(tfidf_model.shape)"
   ]
  },
  {
   "cell_type": "code",
   "execution_count": 6,
   "metadata": {
    "collapsed": false
   },
   "outputs": [
    {
     "name": "stdout",
     "output_type": "stream",
     "text": [
      "GMM(covariance_type='diag', init_params='wmc', min_covar=0.001,\n",
      "  n_components=10, n_init=10, n_iter=500, params='wmc', random_state=None,\n",
      "  thresh=None, tol=0.001, verbose=0)\n"
     ]
    }
   ],
   "source": [
    "# gmm maximisation\n",
    "clf = mixture.GMM(n_components=10, n_iter=500, n_init=10)\n",
    "print (clf)"
   ]
  },
  {
   "cell_type": "markdown",
   "metadata": {},
   "source": [
    "Aikaki Information Criteria(AIC) and the Bayesian Information Criterion(BIC)"
   ]
  },
  {
   "cell_type": "code",
   "execution_count": 7,
   "metadata": {
    "collapsed": false
   },
   "outputs": [
    {
     "data": {
      "text/plain": [
       "<matplotlib.legend.Legend at 0x7f731aa17048>"
      ]
     },
     "execution_count": 7,
     "metadata": {},
     "output_type": "execute_result"
    },
    {
     "data": {
      "image/png": "[encoded data removed]",
      "text/plain": [
       "<matplotlib.figure.Figure at 0x7f731d0e1d68>"
      ]
     },
     "metadata": {},
     "output_type": "display_data"
    }
   ],
   "source": [
    "n_estimators = np.arange(2,50, step=2)\n",
    "tfarray = tfidf_model.toarray()\n",
    "clfs = [mixture.GMM(n, n_iter=500).fit(tfarray) for n in n_estimators]\n",
    "bics = [clf.bic(tfarray) for clf in clfs]\n",
    "aics = [clf.aic(tfarray) for clf in clfs]\n",
    "\n",
    "plt.plot(n_estimators, bics, label= 'BIC')\n",
    "plt.plot(n_estimators, aics, label= 'AIC')\n",
    "plt.legend()"
   ]
  },
  {
   "cell_type": "code",
   "execution_count": 8,
   "metadata": {
    "collapsed": false
   },
   "outputs": [
    {
     "name": "stdout",
     "output_type": "stream",
     "text": [
      "n             bic              aic \n",
      "2             -125056              -127482\n",
      "3             -134066              -137707\n",
      "4             -144474              -149330\n",
      "5             -148406              -154477\n",
      "6             -152741              -160026\n",
      "7             -154519              -163018\n",
      "8             -155940              -165655\n",
      "9             -156033              -166963\n",
      "10             -156392              -168535\n",
      "11             -155287              -168646\n"
     ]
    },
    {
     "data": {
      "image/png": "[encoded data removed]",
      "text/plain": [
       "<matplotlib.figure.Figure at 0x7f732105ba20>"
      ]
     },
     "metadata": {},
     "output_type": "display_data"
    }
   ],
   "source": [
    "n_estimators = np.arange(2,12, step=1)\n",
    "tfarray = tfidf_model.toarray()\n",
    "clfs = [mixture.GMM(n, n_iter=500).fit(tfarray) for n in n_estimators]\n",
    "bics = [clf.bic(tfarray) for clf in clfs]\n",
    "aics = [clf.aic(tfarray) for clf in clfs]\n",
    "\n",
    "plt.plot(n_estimators, bics, label= 'BIC')\n",
    "plt.plot(n_estimators, aics, label= 'AIC')\n",
    "plt.legend()\n",
    "\n",
    "i = 1\n",
    "print(\"n             bic              aic \")\n",
    "for x, y in zip(bics, aics):\n",
    "    i += 1\n",
    "    print(\"%d             %d              %d\" % (i, x, y) )"
   ]
  },
  {
   "cell_type": "code",
   "execution_count": 9,
   "metadata": {
    "collapsed": false
   },
   "outputs": [
    {
     "name": "stdout",
     "output_type": "stream",
     "text": [
      "[ 366.05745474  352.48208212  367.61348621  371.27741492  364.1267351\n",
      "  371.2934108   374.54173447  377.05245156  369.65997341  357.98458871\n",
      "  374.53358328  369.69820064  380.72114312  370.04522972  381.67412719\n",
      "  339.69445733  365.74999161  368.65054678  353.37537587  374.49028432\n",
      "  365.4381412   357.13152659  371.23911725  366.05745474  381.67412719\n",
      "  381.67412719  355.89261705  356.34775971  377.76941656  370.30169474\n",
      "  350.36149394  369.60826889  382.03886586  393.86078548  393.8287502\n",
      "  369.0155013   381.78723785  394.049919    393.20299332  366.63967354\n",
      "  382.03168766  389.06301157  377.51158548  393.86078548  394.52439459\n",
      "  379.21802466  375.61815185  393.86078548  423.78317824  373.12838453\n",
      "  394.52439459  368.89598329  428.50059842  369.33516244  384.4650671\n",
      "  394.4403079   427.38284386  389.18638984  389.60942065  393.10654032\n",
      "  375.50888168  350.63404703  342.20785827  357.45611873  374.2192916\n",
      "  360.16474716  362.37161414  367.49379315  374.2192916   353.11551706\n",
      "  368.40382516  361.46324497  369.82533365  370.85589708  341.22414506\n",
      "  370.65156344  348.88507436  338.88996602  360.12153498  357.45611873\n",
      "  370.65156344  363.4682437   361.40772556  356.86985414  375.50888168\n",
      "  361.54503511  362.92205461  353.45401612  361.56939502  357.45611873\n",
      "  347.96174637  311.49972588  359.26600531  349.61897857  344.61976564\n",
      "  351.28563664  332.48045089  362.47997348  350.99440603  358.90313301\n",
      "  344.61976564  358.90313301  346.38581083  332.8383903   324.3170306\n",
      "  349.03320137  334.85100529  332.02339593  340.95370999  350.04033275\n",
      "  341.0980083   323.84074395  347.75177169  320.68120752  349.61903525\n",
      "  349.61903525  331.3981709   311.49972588  356.20435954  344.53216702\n",
      "  330.30666376  359.75706328  362.46159749  378.45832825  364.07462609\n",
      "  370.49368232  377.31371277  357.83989255  360.19687458  367.96542684\n",
      "  380.96106479  370.71036803  381.11739638  370.07598181  368.24909279\n",
      "  337.92407402  387.45767181  380.96106479  365.23060155  382.16258321\n",
      "  375.89089341  381.33875853  376.336687    382.52033984  354.95599337\n",
      "  382.52033984  347.36514489  361.21707387  382.44929454  381.62713362\n",
      "  366.0513801   375.62531133  374.28116444  360.27585839  365.81166477\n",
      "  363.99834879  331.83794347  335.64429503  333.97337557  361.65982522\n",
      "  339.69445733  363.21329196  348.96247726  347.52593649  370.78645078\n",
      "  348.94945669  351.99871483  375.62531133  358.35171829  345.65371813\n",
      "  345.65371813  335.72933814  375.77258691  367.65851259  352.00935986\n",
      "  352.764562    345.65371813  370.93783051  368.52457039  365.37208603\n",
      "  356.29475924  358.678562    330.30666376  389.07226451  366.19003534\n",
      "  311.49972588  389.07226451  358.678562    344.50860305  364.07462609\n",
      "  352.94094151  365.54216087  332.50856169  328.21713772  353.58699292\n",
      "  358.03461728  352.38694432  355.98720515  346.05780742  357.77702446\n",
      "  331.96747421  359.40873536  360.18435114  351.21516895  363.96552674\n",
      "  365.80733748  358.23642663  362.39000382  311.49972588  347.05314175\n",
      "  336.97346832  343.13329316  330.30666376  302.10744712  370.20992629\n",
      "  354.2471266   354.76859686  351.68053689  350.05169146  344.46321197\n",
      "  302.80545396  328.66967116  372.08352335  331.44568766  344.50860305\n",
      "  367.84561976  344.23531226  320.62607685  370.20992629  347.95721895\n",
      "  347.95721895  347.95721895  347.74844716  319.57366158  356.66850028\n",
      "  345.16857763  355.6629284   357.01242378  341.21627944  347.49713388]\n"
     ]
    }
   ],
   "source": [
    "# Log probabilities of each data point in tfarray\n",
    "clf = mixture.GMM(n_components=9, n_iter=500).fit(tfarray)\n",
    "print( clf.score(tfarray))\n"
   ]
  },
  {
   "cell_type": "markdown",
   "metadata": {},
   "source": [
    "<hr>\n",
    "<b> GMM EM gives 9 clusters </b>\n"
   ]
  },
  {
   "cell_type": "code",
   "execution_count": 10,
   "metadata": {
    "collapsed": false
   },
   "outputs": [
    {
     "name": "stdout",
     "output_type": "stream",
     "text": [
      "Silhouette score                   : 0.110612\n",
      "Adjusted Rand Score                : 0.830575\n",
      "Adjusted Mutual Information Score  : 0.837074\n",
      "Normalized Mutual Information Score: 0.857780\n",
      "Normalized Mutual Information Score: 0.857780\n",
      "Homogeniety Score                  : 0.868899\n",
      "Completeness Score                 : 0.846804\n"
     ]
    }
   ],
   "source": [
    "# true labels\n",
    "t_labels = test_df.iloc[:, 1]\n",
    "\n",
    "# run k means :\n",
    "clusters = 9\n",
    "km_model = KMeans(n_clusters=clusters)\n",
    "cluster = km_model.fit_predict(tfidf_model)\n",
    "\n",
    "# result analysis :\n",
    "print(\"Silhouette score                   : %f\" % silhouette_score(tfidf_model, cluster, sample_size=2000))\n",
    "print(\"Adjusted Rand Score                : %f\" % metrics.adjusted_rand_score(t_labels, cluster))\n",
    "print(\"Adjusted Mutual Information Score  : %f\" % metrics.adjusted_mutual_info_score(t_labels, cluster))\n",
    "print(\"Normalized Mutual Information Score: %f\" % metrics.normalized_mutual_info_score(t_labels, cluster))\n",
    "print(\"Normalized Mutual Information Score: %f\" % metrics.normalized_mutual_info_score(t_labels, cluster))\n",
    "print(\"Homogeniety Score                  : %f\" % metrics.homogeneity_score(t_labels, cluster))\n",
    "print(\"Completeness Score                 : %f\" % metrics.completeness_score(t_labels, cluster))"
   ]
  },
  {
   "cell_type": "code",
   "execution_count": 13,
   "metadata": {
    "collapsed": false
   },
   "outputs": [
    {
     "name": "stdout",
     "output_type": "stream",
     "text": [
      "Cluster 0: news iran roger full politics tech second fertilizer plant police\n",
      "Cluster 1: politics fox trump republican come many win stewart criticism harsh\n",
      "Cluster 2: fashion style amp roger dress clothing social ballychohan trend )t:\n",
      "Cluster 3: music problem rock radio hiphop live roger sundowner lt please\n",
      "Cluster 4: travel luxury gorgeous nln event cover food wine award art\n",
      "Cluster 5: sport shoe card size top onsale headset sweatproof good amazon\n",
      "Cluster 6: art roger paint design knowledge significant rich acronym environment let\n",
      "Cluster 7: food roger recipe foodie amp good fuck yummy terminal spring\n",
      "Cluster 8: tv series roger tvseries review show amp trailer cable join\n"
     ]
    }
   ],
   "source": [
    "order_centroids = km_model.cluster_centers_.argsort()[:, ::-1]\n",
    "terms = vectorizer.get_feature_names()\n",
    "for i in range(clusters):\n",
    "    print(\"Cluster %d:\" % i, end='')\n",
    "    for ind in order_centroids[i, :10]:\n",
    "        print(' %s' % terms[ind], end='')\n",
    "    print()"
   ]
  },
  {
   "cell_type": "code",
   "execution_count": null,
   "metadata": {
    "collapsed": false
   },
   "outputs": [],
   "source": [
    "# run Birch:\n",
    "birch = Birch(n_clusters=clusters)\n",
    "cluster = birch.fit_predict(tfidf_model)\n",
    "\n",
    "# result analysis :\n",
    "print(\"Silhouette score                   : %f\" % silhouette_score(tfidf_model, cluster, sample_size=2000))\n",
    "print(\"Adjusted Rand Score                : %f\" % metrics.adjusted_rand_score(t_labels, cluster))\n",
    "print(\"Adjusted Mutual Information Score  : %f\" % metrics.adjusted_mutual_info_score(t_labels, cluster))\n",
    "print(\"Normalized Mutual Information Score: %f\" % metrics.normalized_mutual_info_score(t_labels, cluster))\n",
    "print(\"Normalized Mutual Information Score: %f\" % metrics.normalized_mutual_info_score(t_labels, cluster))\n",
    "print(\"Homogeniety Score                  : %f\" % metrics.homogeneity_score(t_labels, cluster))\n",
    "print(\"Completeness Score                 : %f\" % metrics.completeness_score(t_labels, cluster))"
   ]
  },
  {
   "cell_type": "code",
   "execution_count": null,
   "metadata": {
    "collapsed": false
   },
   "outputs": [],
   "source": [
    "# run SpectralClustering\n",
    "spectral = SpectralClustering(n_clusters=clusters,\n",
    "                                          eigen_solver='arpack',\n",
    "                                          affinity=\"nearest_neighbors\")\n",
    "cluster = spectral.fit_predict(tfidf_model)\n",
    "\n",
    "# result analysis :\n",
    "print(\"Silhouette score                   : %f\" % silhouette_score(tfidf_model, cluster, sample_size=2000))\n",
    "print(\"Adjusted Rand Score                : %f\" % metrics.adjusted_rand_score(t_labels, cluster))\n",
    "print(\"Adjusted Mutual Information Score  : %f\" % metrics.adjusted_mutual_info_score(t_labels, cluster))\n",
    "print(\"Normalized Mutual Information Score: %f\" % metrics.normalized_mutual_info_score(t_labels, cluster))\n",
    "print(\"Normalized Mutual Information Score: %f\" % metrics.normalized_mutual_info_score(t_labels, cluster))\n",
    "print(\"Homogeniety Score                  : %f\" % metrics.homogeneity_score(t_labels, cluster))\n",
    "print(\"Completeness Score                 : %f\" % metrics.completeness_score(t_labels, cluster))"
   ]
  },
  {
   "cell_type": "code",
   "execution_count": null,
   "metadata": {
    "collapsed": false,
    "slideshow": {
     "slide_type": "-"
    }
   },
   "outputs": [],
   "source": [
    "# db scan\n",
    "dbscan = DBSCAN(eps=.2)\n",
    "cluster = dbscan.fit_predict(tfidf_model)\n",
    "print(\"clusters by DBSCAN: %d\" % len(set(cluster)))\n",
    "# result analysis :\n",
    "if len(set(cluster)) > 1 :\n",
    "    print(\"Silhouette score                   : %f\" % silhouette_score(tfidf_model, cluster, sample_size=2000))\n",
    "print(\"Adjusted Rand Score                : %f\" % metrics.adjusted_rand_score(t_labels, cluster))\n",
    "print(\"Adjusted Mutual Information Score  : %f\" % metrics.adjusted_mutual_info_score(t_labels, cluster))\n",
    "print(\"Normalized Mutual Information Score: %f\" % metrics.normalized_mutual_info_score(t_labels, cluster))\n",
    "print(\"Normalized Mutual Information Score: %f\" % metrics.normalized_mutual_info_score(t_labels, cluster))\n",
    "print(\"Homogeniety Score                  : %f\" % metrics.homogeneity_score(t_labels, cluster))\n",
    "print(\"Completeness Score                 : %f\" % metrics.completeness_score(t_labels, cluster))\n"
   ]
  },
  {
   "cell_type": "code",
   "execution_count": null,
   "metadata": {
    "collapsed": true
   },
   "outputs": [],
   "source": []
  }
 ],
 "metadata": {
  "kernelspec": {
   "display_name": "Python 3",
   "language": "python",
   "name": "python3"
  },
  "language_info": {
   "codemirror_mode": {
    "name": "ipython",
    "version": 3
   },
   "file_extension": ".py",
   "mimetype": "text/x-python",
   "name": "python",
   "nbconvert_exporter": "python",
   "pygments_lexer": "ipython3",
   "version": "3.5.1"
  }
 },
 "nbformat": 4,
 "nbformat_minor": 0
}
