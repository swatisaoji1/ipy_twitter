{
 "cells": [
  {
   "cell_type": "code",
   "execution_count": 4,
   "metadata": {
    "collapsed": false
   },
   "outputs": [],
   "source": [
    "import os, sys\n",
    "newpath = os.getcwd() + \"/helper\"\n",
    "if newpath not in sys.path:\n",
    "    sys.path.insert(0, newpath)\n",
    "    print (\"added helper in path\")"
   ]
  },
  {
   "cell_type": "code",
   "execution_count": 6,
   "metadata": {
    "collapsed": true
   },
   "outputs": [],
   "source": [
    "# imports\n",
    "import db_helper"
   ]
  },
  {
   "cell_type": "code",
   "execution_count": 9,
   "metadata": {
    "collapsed": true
   },
   "outputs": [],
   "source": [
    "def remove_non_ascii(s):\n",
    "    return \"\".join(i for i in s if ord(i) < 128)"
   ]
  },
  {
   "cell_type": "code",
   "execution_count": 8,
   "metadata": {
    "collapsed": false
   },
   "outputs": [
    {
     "name": "stdout",
     "output_type": "stream",
     "text": [
      "tweet_AmericanCrime\n"
     ]
    }
   ],
   "source": [
    "# get the collection\n",
    "collection_name = \"tweet_AmericanCrime\"\n",
    "print(collection_name)\n",
    "db = db_helper.Database('stream_store').db\n",
    "collection = db[collection_name]"
   ]
  },
  {
   "cell_type": "code",
   "execution_count": null,
   "metadata": {
    "collapsed": true
   },
   "outputs": [],
   "source": [
    " out = collection_name + str(count) + \".csv\"\n",
    "    writer = csv.writer(open(out, 'w', newline=''))\n",
    "    tweet_docs = collection.find(batch_size= 20)\n",
    "    i = 0\n",
    "    for each_tweet_doc in tweet_docs:\n",
    "        count_per_user = 0\n",
    "        tweet_list = each_tweet_doc['tweet_text'].split(\"=||=\")\n",
    "        if len(tweet_list) > 0:\n",
    "            username = each_tweet_doc['user_id']\n",
    "            for each_tweet in tweet_list:\n",
    "                row = []\n",
    "                count_per_user += 1\n",
    "                ntext = remove_non_ascii(each_tweet)\n",
    "                words = ntext.split()\n",
    "                if len(words) > 100:\n",
    "                    break\n",
    "                ntext = \" \".join(words)\n",
    "                ntext = html.unescape(ntext)\n",
    "                print(ntext)\n",
    "                row.append(ntext)\n",
    "                row.append(username)\n",
    "                writer.writerow(row)\n",
    "                i += 1\n",
    "                if count_per_user >= 20:\n",
    "                    break\n",
    "                if i == count:\n",
    "                    exit(0)"
   ]
  }
 ],
 "metadata": {
  "kernelspec": {
   "display_name": "Python 3",
   "language": "python",
   "name": "python3"
  },
  "language_info": {
   "codemirror_mode": {
    "name": "ipython",
    "version": 3
   },
   "file_extension": ".py",
   "mimetype": "text/x-python",
   "name": "python",
   "nbconvert_exporter": "python",
   "pygments_lexer": "ipython3",
   "version": "3.5.1"
  }
 },
 "nbformat": 4,
 "nbformat_minor": 0
}
