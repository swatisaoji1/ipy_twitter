{
 "cells": [
  {
   "cell_type": "markdown",
   "metadata": {},
   "source": [
    "### Similarity index between users \n",
    " \n",
    "  \n",
    "\n",
    "<div style=\"border: 1px solid gray; padding: 5px\"}>\n",
    "Given a csv with user_if, tweets, assigned_clusters : return the n * n matrix(m) of similarity where  m(i, j) = similarity measure between user i & j \n",
    "</div>"
   ]
  },
  {
   "cell_type": "code",
   "execution_count": 37,
   "metadata": {
    "collapsed": false
   },
   "outputs": [],
   "source": [
    "# imports\n",
    "import pandas as pd\n",
    "from scipy.sparse import csc_matrix\n",
    "from sklearn.metrics import pairwise_distances"
   ]
  },
  {
   "cell_type": "code",
   "execution_count": 36,
   "metadata": {
    "collapsed": true
   },
   "outputs": [],
   "source": [
    "#  hardcoded variables\n",
    "\n",
    "filename = \"results/kmeans_160_labelled.csv\""
   ]
  },
  {
   "cell_type": "code",
   "execution_count": 3,
   "metadata": {
    "collapsed": false
   },
   "outputs": [
    {
     "name": "stdout",
     "output_type": "stream",
     "text": [
      "   Unnamed: 0  Unnamed: 0.1      label  \\\n",
      "0           0             0  #politics   \n",
      "1           1             1  #politics   \n",
      "2           2             2  #politics   \n",
      "3           3             3  #politics   \n",
      "4           4             4  #politics   \n",
      "\n",
      "                                               tweet                user  \\\n",
      "0  Delano Hotel Sold to Company That Runs SLS, Ra...  730076605708537856   \n",
      "1  Who Promoted #PrivateRyan? | RealClearPolitics...  730076585378893824   \n",
      "2  #liberty #freedom #gop #democrat #trump #hilla...  730076554542391296   \n",
      "3  #liberty #freedom #gop #democrat #trump #hilla...  730076553850269696   \n",
      "4  Lead testing inconsistent in Washington school...  730076487123017728   \n",
      "\n",
      "   cluster  \n",
      "0        6  \n",
      "1        6  \n",
      "2        6  \n",
      "3        6  \n",
      "4        6  \n"
     ]
    }
   ],
   "source": [
    "# lead the file in dataframe\n",
    "df = pd.read_csv(filename,  low_memory=False)\n",
    "print(df[:5])"
   ]
  },
  {
   "cell_type": "raw",
   "metadata": {},
   "source": [
    "# Pseudo code for vector calculation\n",
    "====================================\n",
    "given a dataframe of user_id, tweets, cluster\n",
    "group the data by user_id:\n",
    "    for each user :\n",
    "        get total tweet_count\n",
    "        for each cluster :\n",
    "            get count of users tweets in that cluster / total tweet\n",
    "            add to users vector.\n",
    "            \n",
    "  eg : if there are 3 clusters 0,1 and 2\n",
    "  and user A has 5 tweets , 3 in cluster 0, 2 in cluster 1 and 0 in cluster 2\n",
    "  The vector will be [0.6, 0.4, 0] \n"
   ]
  },
  {
   "cell_type": "code",
   "execution_count": 47,
   "metadata": {
    "collapsed": false
   },
   "outputs": [],
   "source": [
    "# group by clusters\n",
    "def get_user_tuples(df):\n",
    "    grouped_user = df.groupby('user')\n",
    "    grouped_clusters = df.groupby(['user', 'cluster'])\n",
    "    clusters = df.cluster.unique()\n",
    "    users = []\n",
    "    for name, group in grouped_user:\n",
    "        user_tuple = []\n",
    "        total_tweets = len(group)\n",
    "        for each_clusters in clusters:\n",
    "            try:\n",
    "                g = grouped_clusters.get_group((name,each_clusters))\n",
    "                user_tuple.append(len(g)/total_tweets)\n",
    "            except KeyError:\n",
    "                user_tuple.append(0)\n",
    "        users.append((user_tuple))\n",
    "    return users\n",
    "\n",
    "    # print(\"====================\")\n",
    "    # print(grouped_user.get_group(730075223748317189))"
   ]
  },
  {
   "cell_type": "code",
   "execution_count": 48,
   "metadata": {
    "collapsed": false
   },
   "outputs": [
    {
     "name": "stdout",
     "output_type": "stream",
     "text": [
      "[[ 0.  0.  0. ...,  1.  1.  1.]\n",
      " [ 0.  0.  0. ...,  1.  1.  1.]\n",
      " [ 0.  0.  0. ...,  1.  1.  1.]\n",
      " ..., \n",
      " [ 1.  1.  1. ...,  0.  0.  0.]\n",
      " [ 1.  1.  1. ...,  0.  0.  0.]\n",
      " [ 1.  1.  1. ...,  0.  0.  0.]]\n"
     ]
    }
   ],
   "source": [
    "gen = get_user_tuples(df)\n",
    "dist = pairwise_distances(gen, metric='cosine')\n",
    "print(dist)"
   ]
  },
  {
   "cell_type": "code",
   "execution_count": null,
   "metadata": {
    "collapsed": true
   },
   "outputs": [],
   "source": []
  }
 ],
 "metadata": {
  "kernelspec": {
   "display_name": "Python 3",
   "language": "python",
   "name": "python3"
  },
  "language_info": {
   "codemirror_mode": {
    "name": "ipython",
    "version": 3
   },
   "file_extension": ".py",
   "mimetype": "text/x-python",
   "name": "python",
   "nbconvert_exporter": "python",
   "pygments_lexer": "ipython3",
   "version": "3.5.1"
  }
 },
 "nbformat": 4,
 "nbformat_minor": 0
}
