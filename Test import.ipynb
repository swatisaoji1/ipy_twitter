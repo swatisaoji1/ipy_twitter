{
 "cells": [
  {
   "cell_type": "code",
   "execution_count": 1,
   "metadata": {
    "collapsed": false
   },
   "outputs": [
    {
     "data": {
      "text/html": [
       "<script>jQuery(function() {if (jQuery(\"body.notebook_app\").length == 0) { jQuery(\".input_area\").toggle(); jQuery(\".prompt\").toggle();}});</script>"
      ]
     },
     "metadata": {},
     "output_type": "display_data"
    },
    {
     "name": "stdout",
     "output_type": "stream",
     "text": [
      "['', '/home/swati/anaconda3/lib/python35.zip', '/home/swati/anaconda3/lib/python3.5', '/home/swati/anaconda3/lib/python3.5/plat-linux', '/home/swati/anaconda3/lib/python3.5/lib-dynload', '/home/swati/anaconda3/lib/python3.5/site-packages/Sphinx-1.3.5-py3.5.egg', '/home/swati/anaconda3/lib/python3.5/site-packages/setuptools-20.3-py3.5.egg', '/home/swati/anaconda3/lib/python3.5/site-packages', '/home/swati/anaconda3/lib/python3.5/site-packages/IPython/extensions', '/home/swati/.ipython']\n"
     ]
    }
   ],
   "source": [
    "%matplotlib inline\n",
    "import IPython.core.display as di\n",
    "import sys\n",
    "\n",
    "# This line will hide code by default when the notebook is exported as HTML\n",
    "di.display_html('<script>jQuery(function() {if (jQuery(\"body.notebook_app\").length == 0) { jQuery(\".input_area\").toggle(); jQuery(\".prompt\").toggle();}});</script>', raw=True)\n",
    "\n",
    "\n",
    "print( sys.path )\n"
   ]
  }
 ],
 "metadata": {
  "kernelspec": {
   "display_name": "Python 3",
   "language": "python",
   "name": "python3"
  },
  "language_info": {
   "codemirror_mode": {
    "name": "ipython",
    "version": 3
   },
   "file_extension": ".py",
   "mimetype": "text/x-python",
   "name": "python",
   "nbconvert_exporter": "python",
   "pygments_lexer": "ipython3",
   "version": "3.5.1"
  }
 },
 "nbformat": 4,
 "nbformat_minor": 0
}
