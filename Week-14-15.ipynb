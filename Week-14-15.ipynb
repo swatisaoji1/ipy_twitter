{
 "cells": [
  {
   "cell_type": "markdown",
   "metadata": {},
   "source": [
    "#### Manually Labelled Tweets\n",
    "___\n",
    "\n",
    "* Step 1: Get the list of all unique users from one TV show\n",
    "* Step 2: Randomly pick x username\n",
    "* Step 3: collect uptp 3200 tweets that belong to x users from twitter api\n",
    "* step 4: Label \n",
    "\n"
   ]
  },
  {
   "cell_type": "markdown",
   "metadata": {
    "collapsed": true
   },
   "source": [
    "User Similarity Implementation  \n",
    "https://nbviewer.jupyter.org/github/swatisaoji1/ipy_twitter/blob/master/User_similarity_matrix.ipynb\n"
   ]
  },
  {
   "cell_type": "code",
   "execution_count": null,
   "metadata": {
    "collapsed": true
   },
   "outputs": [],
   "source": []
  }
 ],
 "metadata": {
  "kernelspec": {
   "display_name": "Python 3",
   "language": "python",
   "name": "python3"
  },
  "language_info": {
   "codemirror_mode": {
    "name": "ipython",
    "version": 3
   },
   "file_extension": ".py",
   "mimetype": "text/x-python",
   "name": "python",
   "nbconvert_exporter": "python",
   "pygments_lexer": "ipython3",
   "version": "3.5.1"
  }
 },
 "nbformat": 4,
 "nbformat_minor": 0
}
